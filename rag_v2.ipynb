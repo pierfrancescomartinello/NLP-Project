{
  "cells": [
    {
      "cell_type": "markdown",
      "metadata": {
        "id": "5hxScxn4C2C7"
      },
      "source": [
        "# RAG pipelines with Haystack 2.0 + Zephyr 7B Beta 🪁\n",
        "\n",
        "*Notebook by [Stefano Fiorucci](https://www.linkedin.com/in/stefano-fiorucci/) and [Tuana Celik](https://www.linkedin.com/in/tuanacelik/)*\n",
        "\n",
        "We are going to build a nice Retrieval Augmented Generation pipeline for Rock music, using the 🏗️ **Haystack LLM orchestration framework** and a good LLM: 💬 [Zephyr 7B Beta](https://huggingface.co/HuggingFaceH4/zephyr-7b-beta) (fine-tuned version of Mistral 7B V.01 that focuses on helpfulness and outperforms many larger models on the MT-Bench and AlpacaEval benchmarks)"
      ]
    },
    {
      "cell_type": "markdown",
      "metadata": {
        "colab_type": "toc",
        "id": "Hkf90xDfpQWt"
      },
      "source": [
        ">[RAG pipelines with Haystack 2.0 + Zephyr 7B Beta 🪁](#scrollTo=5hxScxn4C2C7)\n",
        "\n",
        ">>[Install dependencies](#scrollTo=4spPB1okEaLy)\n",
        "\n",
        ">>[The Indexing Pipeline](#scrollTo=-JVo2FlEtbTZ)\n",
        "\n",
        ">>[The RAG Pipeline](#scrollTo=MIl9x5WU3_yD)\n",
        "\n",
        ">>>[HuggingFaceLocalGenerator with zephyr-7b-beta](#scrollTo=p1Xuf4TgTHKz)\n",
        "\n",
        ">>>[PromptBuilder](#scrollTo=BDwuO18KXsOK)\n",
        "\n",
        ">>>[Let's create the RAG pipeline](#scrollTo=zksvYdLQawH-)\n",
        "\n"
      ]
    },
    {
      "cell_type": "markdown",
      "metadata": {
        "id": "4spPB1okEaLy"
      },
      "source": [
        "## Install dependencies\n",
        "- `haystack-ai` is the preview of Haystack 2.0\n",
        "- `sentence_transformers` is needed for embeddings\n",
        "- `transformers` is needed to use open-source LLMs\n",
        "- `accelerate` and `bitsandbytes` are required to use quantized versions of these models (with smaller memory footprint)"
      ]
    },
    {
      "cell_type": "code",
      "execution_count": 1,
      "metadata": {
        "id": "R_Abekd7m0Ps"
      },
      "outputs": [],
      "source": [
        "%%capture\n",
        "! pip install wikipedia haystack-ai transformers accelerate bitsandbytes sentence_transformers"
      ]
    },
    {
      "cell_type": "code",
      "execution_count": 2,
      "metadata": {
        "id": "oZxQ0sY2I8fL"
      },
      "outputs": [],
      "source": [
        "from IPython.display import Image\n",
        "from pprint import pprint\n",
        "import torch\n",
        "import rich\n",
        "import random"
      ]
    },
    {
      "cell_type": "markdown",
      "source": [
        "## Load dataset"
      ],
      "metadata": {
        "id": "GvUT3eCHi2Qg"
      }
    },
    {
      "cell_type": "code",
      "source": [
        "from google.colab import drive\n",
        "drive.mount('/content/drive')"
      ],
      "metadata": {
        "id": "m243ngrBixPX",
        "outputId": "c25ef9b5-5f9f-4b4c-b8bd-8eed017bb516",
        "colab": {
          "base_uri": "https://localhost:8080/"
        }
      },
      "execution_count": 3,
      "outputs": [
        {
          "output_type": "stream",
          "name": "stdout",
          "text": [
            "Mounted at /content/drive\n"
          ]
        }
      ]
    },
    {
      "cell_type": "code",
      "source": [
        "import pandas as pd\n",
        "import numpy as np\n",
        "\n",
        "filepath = \"/content/drive/MyDrive/output240617110842.json\"\n",
        "df = pd.read_json(filepath)\n",
        "df.columns = [\"title\", \"addr\", \"text\"]\n",
        "\n",
        "df"
      ],
      "metadata": {
        "id": "k-YCuPZWi-Ab",
        "outputId": "ca1ef213-8064-4d2d-8a81-a03b85d713d1",
        "colab": {
          "base_uri": "https://localhost:8080/",
          "height": 580
        }
      },
      "execution_count": 4,
      "outputs": [
        {
          "output_type": "execute_result",
          "data": {
            "text/plain": [
              "                                                  title  \\\n",
              "0                     Università degli Studi di Palermo   \n",
              "1     Organi di Governo | Università degli Studi di ...   \n",
              "2     Fatturazione elettronica | Università degli St...   \n",
              "3     Presentazione | Università degli Studi di Palermo   \n",
              "4           Credits | Università degli Studi di Palermo   \n",
              "...                                                 ...   \n",
              "6333  Calendari didattici DARCH | Centro per l’innov...   \n",
              "6334                | Università degli Studi di Palermo   \n",
              "6335  Settore Comunicazione e URP | Settore Comunica...   \n",
              "6336  Regolamenti per aree tematiche di interesse | ...   \n",
              "6337  Storia dell'Ateneo | Università degli Studi di...   \n",
              "\n",
              "                                                   addr  \\\n",
              "0                                 https://www.unipa.it/   \n",
              "1     https://www.unipa.it/ateneo/OrganiDiGovernoECo...   \n",
              "2     https://www.unipa.it/target/imprese/informazio...   \n",
              "3            https://www.unipa.it/ateneo/presentazione/   \n",
              "4                     https://www.unipa.it/credits.html   \n",
              "...                                                 ...   \n",
              "6333  https://www.unipa.it/strutture/cimdu/Calendari...   \n",
              "6334  https://www.unipa.it/amministrazione/rettorato...   \n",
              "6335  https://www.unipa.it/amministrazione/rettorato...   \n",
              "6336  https://www.unipa.it/servizi/prevenzionedellac...   \n",
              "6337  https://www.unipa.it/ateneo/Storia-dellAteneo/...   \n",
              "\n",
              "                                                   text  \n",
              "0                                                        \n",
              "1                                                        \n",
              "2     Il D.M 55 del 3 aprile 2013 prevede l'obbligo ...  \n",
              "3                                                        \n",
              "4     I contenuti della home page e delle relative s...  \n",
              "...                                                 ...  \n",
              "6333   Calendario didattico DARCH A.A. 2024/2025  Ca...  \n",
              "6334                                                     \n",
              "6335                                                     \n",
              "6336      REGOLAMENTI PERSONALE DOCENTE E RICERCATORE    \n",
              "6337  Il 12 gennaio 1806 Ferdinando III di Borbone, ...  \n",
              "\n",
              "[6338 rows x 3 columns]"
            ],
            "text/html": [
              "\n",
              "  <div id=\"df-34aee5f4-fcaf-4a6b-87b7-b0b53cee9237\" class=\"colab-df-container\">\n",
              "    <div>\n",
              "<style scoped>\n",
              "    .dataframe tbody tr th:only-of-type {\n",
              "        vertical-align: middle;\n",
              "    }\n",
              "\n",
              "    .dataframe tbody tr th {\n",
              "        vertical-align: top;\n",
              "    }\n",
              "\n",
              "    .dataframe thead th {\n",
              "        text-align: right;\n",
              "    }\n",
              "</style>\n",
              "<table border=\"1\" class=\"dataframe\">\n",
              "  <thead>\n",
              "    <tr style=\"text-align: right;\">\n",
              "      <th></th>\n",
              "      <th>title</th>\n",
              "      <th>addr</th>\n",
              "      <th>text</th>\n",
              "    </tr>\n",
              "  </thead>\n",
              "  <tbody>\n",
              "    <tr>\n",
              "      <th>0</th>\n",
              "      <td>Università degli Studi di Palermo</td>\n",
              "      <td>https://www.unipa.it/</td>\n",
              "      <td></td>\n",
              "    </tr>\n",
              "    <tr>\n",
              "      <th>1</th>\n",
              "      <td>Organi di Governo | Università degli Studi di ...</td>\n",
              "      <td>https://www.unipa.it/ateneo/OrganiDiGovernoECo...</td>\n",
              "      <td></td>\n",
              "    </tr>\n",
              "    <tr>\n",
              "      <th>2</th>\n",
              "      <td>Fatturazione elettronica | Università degli St...</td>\n",
              "      <td>https://www.unipa.it/target/imprese/informazio...</td>\n",
              "      <td>Il D.M 55 del 3 aprile 2013 prevede l'obbligo ...</td>\n",
              "    </tr>\n",
              "    <tr>\n",
              "      <th>3</th>\n",
              "      <td>Presentazione | Università degli Studi di Palermo</td>\n",
              "      <td>https://www.unipa.it/ateneo/presentazione/</td>\n",
              "      <td></td>\n",
              "    </tr>\n",
              "    <tr>\n",
              "      <th>4</th>\n",
              "      <td>Credits | Università degli Studi di Palermo</td>\n",
              "      <td>https://www.unipa.it/credits.html</td>\n",
              "      <td>I contenuti della home page e delle relative s...</td>\n",
              "    </tr>\n",
              "    <tr>\n",
              "      <th>...</th>\n",
              "      <td>...</td>\n",
              "      <td>...</td>\n",
              "      <td>...</td>\n",
              "    </tr>\n",
              "    <tr>\n",
              "      <th>6333</th>\n",
              "      <td>Calendari didattici DARCH | Centro per l’innov...</td>\n",
              "      <td>https://www.unipa.it/strutture/cimdu/Calendari...</td>\n",
              "      <td>Calendario didattico DARCH A.A. 2024/2025  Ca...</td>\n",
              "    </tr>\n",
              "    <tr>\n",
              "      <th>6334</th>\n",
              "      <td>| Università degli Studi di Palermo</td>\n",
              "      <td>https://www.unipa.it/amministrazione/rettorato...</td>\n",
              "      <td></td>\n",
              "    </tr>\n",
              "    <tr>\n",
              "      <th>6335</th>\n",
              "      <td>Settore Comunicazione e URP | Settore Comunica...</td>\n",
              "      <td>https://www.unipa.it/amministrazione/rettorato...</td>\n",
              "      <td></td>\n",
              "    </tr>\n",
              "    <tr>\n",
              "      <th>6336</th>\n",
              "      <td>Regolamenti per aree tematiche di interesse | ...</td>\n",
              "      <td>https://www.unipa.it/servizi/prevenzionedellac...</td>\n",
              "      <td>REGOLAMENTI PERSONALE DOCENTE E RICERCATORE</td>\n",
              "    </tr>\n",
              "    <tr>\n",
              "      <th>6337</th>\n",
              "      <td>Storia dell'Ateneo | Università degli Studi di...</td>\n",
              "      <td>https://www.unipa.it/ateneo/Storia-dellAteneo/...</td>\n",
              "      <td>Il 12 gennaio 1806 Ferdinando III di Borbone, ...</td>\n",
              "    </tr>\n",
              "  </tbody>\n",
              "</table>\n",
              "<p>6338 rows × 3 columns</p>\n",
              "</div>\n",
              "    <div class=\"colab-df-buttons\">\n",
              "\n",
              "  <div class=\"colab-df-container\">\n",
              "    <button class=\"colab-df-convert\" onclick=\"convertToInteractive('df-34aee5f4-fcaf-4a6b-87b7-b0b53cee9237')\"\n",
              "            title=\"Convert this dataframe to an interactive table.\"\n",
              "            style=\"display:none;\">\n",
              "\n",
              "  <svg xmlns=\"http://www.w3.org/2000/svg\" height=\"24px\" viewBox=\"0 -960 960 960\">\n",
              "    <path d=\"M120-120v-720h720v720H120Zm60-500h600v-160H180v160Zm220 220h160v-160H400v160Zm0 220h160v-160H400v160ZM180-400h160v-160H180v160Zm440 0h160v-160H620v160ZM180-180h160v-160H180v160Zm440 0h160v-160H620v160Z\"/>\n",
              "  </svg>\n",
              "    </button>\n",
              "\n",
              "  <style>\n",
              "    .colab-df-container {\n",
              "      display:flex;\n",
              "      gap: 12px;\n",
              "    }\n",
              "\n",
              "    .colab-df-convert {\n",
              "      background-color: #E8F0FE;\n",
              "      border: none;\n",
              "      border-radius: 50%;\n",
              "      cursor: pointer;\n",
              "      display: none;\n",
              "      fill: #1967D2;\n",
              "      height: 32px;\n",
              "      padding: 0 0 0 0;\n",
              "      width: 32px;\n",
              "    }\n",
              "\n",
              "    .colab-df-convert:hover {\n",
              "      background-color: #E2EBFA;\n",
              "      box-shadow: 0px 1px 2px rgba(60, 64, 67, 0.3), 0px 1px 3px 1px rgba(60, 64, 67, 0.15);\n",
              "      fill: #174EA6;\n",
              "    }\n",
              "\n",
              "    .colab-df-buttons div {\n",
              "      margin-bottom: 4px;\n",
              "    }\n",
              "\n",
              "    [theme=dark] .colab-df-convert {\n",
              "      background-color: #3B4455;\n",
              "      fill: #D2E3FC;\n",
              "    }\n",
              "\n",
              "    [theme=dark] .colab-df-convert:hover {\n",
              "      background-color: #434B5C;\n",
              "      box-shadow: 0px 1px 3px 1px rgba(0, 0, 0, 0.15);\n",
              "      filter: drop-shadow(0px 1px 2px rgba(0, 0, 0, 0.3));\n",
              "      fill: #FFFFFF;\n",
              "    }\n",
              "  </style>\n",
              "\n",
              "    <script>\n",
              "      const buttonEl =\n",
              "        document.querySelector('#df-34aee5f4-fcaf-4a6b-87b7-b0b53cee9237 button.colab-df-convert');\n",
              "      buttonEl.style.display =\n",
              "        google.colab.kernel.accessAllowed ? 'block' : 'none';\n",
              "\n",
              "      async function convertToInteractive(key) {\n",
              "        const element = document.querySelector('#df-34aee5f4-fcaf-4a6b-87b7-b0b53cee9237');\n",
              "        const dataTable =\n",
              "          await google.colab.kernel.invokeFunction('convertToInteractive',\n",
              "                                                    [key], {});\n",
              "        if (!dataTable) return;\n",
              "\n",
              "        const docLinkHtml = 'Like what you see? Visit the ' +\n",
              "          '<a target=\"_blank\" href=https://colab.research.google.com/notebooks/data_table.ipynb>data table notebook</a>'\n",
              "          + ' to learn more about interactive tables.';\n",
              "        element.innerHTML = '';\n",
              "        dataTable['output_type'] = 'display_data';\n",
              "        await google.colab.output.renderOutput(dataTable, element);\n",
              "        const docLink = document.createElement('div');\n",
              "        docLink.innerHTML = docLinkHtml;\n",
              "        element.appendChild(docLink);\n",
              "      }\n",
              "    </script>\n",
              "  </div>\n",
              "\n",
              "\n",
              "<div id=\"df-0c11dbc8-4087-4bbd-9245-c36e5f4a2ff4\">\n",
              "  <button class=\"colab-df-quickchart\" onclick=\"quickchart('df-0c11dbc8-4087-4bbd-9245-c36e5f4a2ff4')\"\n",
              "            title=\"Suggest charts\"\n",
              "            style=\"display:none;\">\n",
              "\n",
              "<svg xmlns=\"http://www.w3.org/2000/svg\" height=\"24px\"viewBox=\"0 0 24 24\"\n",
              "     width=\"24px\">\n",
              "    <g>\n",
              "        <path d=\"M19 3H5c-1.1 0-2 .9-2 2v14c0 1.1.9 2 2 2h14c1.1 0 2-.9 2-2V5c0-1.1-.9-2-2-2zM9 17H7v-7h2v7zm4 0h-2V7h2v10zm4 0h-2v-4h2v4z\"/>\n",
              "    </g>\n",
              "</svg>\n",
              "  </button>\n",
              "\n",
              "<style>\n",
              "  .colab-df-quickchart {\n",
              "      --bg-color: #E8F0FE;\n",
              "      --fill-color: #1967D2;\n",
              "      --hover-bg-color: #E2EBFA;\n",
              "      --hover-fill-color: #174EA6;\n",
              "      --disabled-fill-color: #AAA;\n",
              "      --disabled-bg-color: #DDD;\n",
              "  }\n",
              "\n",
              "  [theme=dark] .colab-df-quickchart {\n",
              "      --bg-color: #3B4455;\n",
              "      --fill-color: #D2E3FC;\n",
              "      --hover-bg-color: #434B5C;\n",
              "      --hover-fill-color: #FFFFFF;\n",
              "      --disabled-bg-color: #3B4455;\n",
              "      --disabled-fill-color: #666;\n",
              "  }\n",
              "\n",
              "  .colab-df-quickchart {\n",
              "    background-color: var(--bg-color);\n",
              "    border: none;\n",
              "    border-radius: 50%;\n",
              "    cursor: pointer;\n",
              "    display: none;\n",
              "    fill: var(--fill-color);\n",
              "    height: 32px;\n",
              "    padding: 0;\n",
              "    width: 32px;\n",
              "  }\n",
              "\n",
              "  .colab-df-quickchart:hover {\n",
              "    background-color: var(--hover-bg-color);\n",
              "    box-shadow: 0 1px 2px rgba(60, 64, 67, 0.3), 0 1px 3px 1px rgba(60, 64, 67, 0.15);\n",
              "    fill: var(--button-hover-fill-color);\n",
              "  }\n",
              "\n",
              "  .colab-df-quickchart-complete:disabled,\n",
              "  .colab-df-quickchart-complete:disabled:hover {\n",
              "    background-color: var(--disabled-bg-color);\n",
              "    fill: var(--disabled-fill-color);\n",
              "    box-shadow: none;\n",
              "  }\n",
              "\n",
              "  .colab-df-spinner {\n",
              "    border: 2px solid var(--fill-color);\n",
              "    border-color: transparent;\n",
              "    border-bottom-color: var(--fill-color);\n",
              "    animation:\n",
              "      spin 1s steps(1) infinite;\n",
              "  }\n",
              "\n",
              "  @keyframes spin {\n",
              "    0% {\n",
              "      border-color: transparent;\n",
              "      border-bottom-color: var(--fill-color);\n",
              "      border-left-color: var(--fill-color);\n",
              "    }\n",
              "    20% {\n",
              "      border-color: transparent;\n",
              "      border-left-color: var(--fill-color);\n",
              "      border-top-color: var(--fill-color);\n",
              "    }\n",
              "    30% {\n",
              "      border-color: transparent;\n",
              "      border-left-color: var(--fill-color);\n",
              "      border-top-color: var(--fill-color);\n",
              "      border-right-color: var(--fill-color);\n",
              "    }\n",
              "    40% {\n",
              "      border-color: transparent;\n",
              "      border-right-color: var(--fill-color);\n",
              "      border-top-color: var(--fill-color);\n",
              "    }\n",
              "    60% {\n",
              "      border-color: transparent;\n",
              "      border-right-color: var(--fill-color);\n",
              "    }\n",
              "    80% {\n",
              "      border-color: transparent;\n",
              "      border-right-color: var(--fill-color);\n",
              "      border-bottom-color: var(--fill-color);\n",
              "    }\n",
              "    90% {\n",
              "      border-color: transparent;\n",
              "      border-bottom-color: var(--fill-color);\n",
              "    }\n",
              "  }\n",
              "</style>\n",
              "\n",
              "  <script>\n",
              "    async function quickchart(key) {\n",
              "      const quickchartButtonEl =\n",
              "        document.querySelector('#' + key + ' button');\n",
              "      quickchartButtonEl.disabled = true;  // To prevent multiple clicks.\n",
              "      quickchartButtonEl.classList.add('colab-df-spinner');\n",
              "      try {\n",
              "        const charts = await google.colab.kernel.invokeFunction(\n",
              "            'suggestCharts', [key], {});\n",
              "      } catch (error) {\n",
              "        console.error('Error during call to suggestCharts:', error);\n",
              "      }\n",
              "      quickchartButtonEl.classList.remove('colab-df-spinner');\n",
              "      quickchartButtonEl.classList.add('colab-df-quickchart-complete');\n",
              "    }\n",
              "    (() => {\n",
              "      let quickchartButtonEl =\n",
              "        document.querySelector('#df-0c11dbc8-4087-4bbd-9245-c36e5f4a2ff4 button');\n",
              "      quickchartButtonEl.style.display =\n",
              "        google.colab.kernel.accessAllowed ? 'block' : 'none';\n",
              "    })();\n",
              "  </script>\n",
              "</div>\n",
              "    </div>\n",
              "  </div>\n"
            ],
            "application/vnd.google.colaboratory.intrinsic+json": {
              "type": "dataframe",
              "variable_name": "df",
              "summary": "{\n  \"name\": \"df\",\n  \"rows\": 6338,\n  \"fields\": [\n    {\n      \"column\": \"title\",\n      \"properties\": {\n        \"dtype\": \"string\",\n        \"num_unique_values\": 3793,\n        \"samples\": [\n          \"2236 - INGEGNERIA BIOMEDICA | Universit\\u00e0 degli Studi di Palermo\",\n          \"Borsa di studio Anasf \\\"Ivo Taddei\\\" XVI edizione | Universit\\u00e0 degli Studi di Palermo\",\n          \"Marketing of Innovative Products and Investment Management (1 CFU) | Universit\\u00e0 degli Studi di Palermo\"\n        ],\n        \"semantic_type\": \"\",\n        \"description\": \"\"\n      }\n    },\n    {\n      \"column\": \"addr\",\n      \"properties\": {\n        \"dtype\": \"string\",\n        \"num_unique_values\": 6338,\n        \"samples\": [\n          \"https://www.unipa.it/cerca.html?searchMacro=argomenti&searchaction=search&query=%22premi%22\",\n          \"https://www.unipa.it/cerca.html?searchMacro=argomenti&searchaction=search&query=%22Tirocini+Maeci-Crui%22\",\n          \"https://www.unipa.it/persone/docenti/o/antoninomario.oliveri/Prof.-Antonino-Mario-Oliveri---21-marzo-TEORIA-E-TECNICHE-DEL-SONDAGGIO-DI-OPINIONE/\"\n        ],\n        \"semantic_type\": \"\",\n        \"description\": \"\"\n      }\n    },\n    {\n      \"column\": \"text\",\n      \"properties\": {\n        \"dtype\": \"string\",\n        \"num_unique_values\": 3373,\n        \"samples\": [\n          \"24-feb-2023 Si informano gli studenti che con delibera del 13/06/2022 il S.A. ha approvato l\\u2019attivazione di attivit\\u00e0 formative trasversali ai Corsi di Studio, quale azione di sistema per facilitare l\\u2019inserimento dei laureati nel mondo del lavoro e rafforzarne l\\u2019occupabilit\\u00e0. Gli studenti potranno presentare richiesta di partecipazione alle attivit\\u00e0 proposte per il II semestre attraverso il Portale di Ateneo dal 21 febbraio al 7 marzo 2023.Le attivit\\u00e0 potranno essere frequentate da un numero definito di studenti in possesso dei requisiti previsti e che l\\u2019ammissione alle attivit\\u00e0 avverr\\u00e0 secondo il criterio cronologico di presentazione delle richieste di partecipazione. Tabella con CFU riconosciuti per Ingegneria Biomedica Link per maggiori informazioni sulle attivit\\u00e0 trasversali\",\n          \"  FUNZIONI DEL TUTOR DELL\\u2019APPRENDIMENO PER STUDENTI  \",\n          \"12-feb-2024 VISUALIZZA CALENDARIO\"\n        ],\n        \"semantic_type\": \"\",\n        \"description\": \"\"\n      }\n    }\n  ]\n}"
            }
          },
          "metadata": {},
          "execution_count": 4
        }
      ]
    },
    {
      "cell_type": "code",
      "source": [
        "import re\n",
        "\n",
        "def remove_dates(s: str) -> str:\n",
        "    regex = r'\\d{1,2}-(gen|feb|mar|apr|mag|giu|lug|ago|set|ott|nov|dic)-\\d{4}'\n",
        "\n",
        "    return re.sub(regex, '', s)\n",
        "\n",
        "def remove_empty_docs(df):\n",
        "    df[\"text\"] = df[\"text\"].replace(\"\", np.nan)\n",
        "    df.dropna(subset=[\"text\"], inplace=True)\n",
        "\n",
        "    return df\n",
        "\n",
        "def preprocess(df: pd.DataFrame) -> pd.DataFrame:\n",
        "    df[\"text\"] = df[\"text\"].apply(lambda x: x.strip())\n",
        "    df = remove_empty_docs(df)\n",
        "    df[\"text\"] = df[\"text\"].apply(remove_dates)\n",
        "\n",
        "    # specify minimum document length\n",
        "    # most documents below threshold tend to be garbage documents\n",
        "    df = df[df[\"text\"].str.len() >= 200]\n",
        "\n",
        "    df.reset_index(inplace=True, drop=True)\n",
        "\n",
        "    return df"
      ],
      "metadata": {
        "id": "zGnPu4Bsi_4Y"
      },
      "execution_count": 5,
      "outputs": []
    },
    {
      "cell_type": "code",
      "source": [
        "tmp = preprocess(df)\n",
        "tmp"
      ],
      "metadata": {
        "id": "nbwu2mdQjCGa",
        "outputId": "d1c17424-aa6c-4ee8-ed8c-90e79f3c18fe",
        "colab": {
          "base_uri": "https://localhost:8080/",
          "height": 597
        }
      },
      "execution_count": 6,
      "outputs": [
        {
          "output_type": "execute_result",
          "data": {
            "text/plain": [
              "                                                  title  \\\n",
              "0     Fatturazione elettronica | Università degli St...   \n",
              "1           Credits | Università degli Studi di Palermo   \n",
              "2     Sostegno allo studio | Centro per l’innovazion...   \n",
              "3       PNRR | PNRR | Università degli Studi di Palermo   \n",
              "4     Corsi di preparazione alle prove di accesso A....   \n",
              "...                                                 ...   \n",
              "2774  U.O. Didattica e Internazionalizzazione - Desc...   \n",
              "2775  Ricercatori neoassunti | Università degli Stud...   \n",
              "2776  Declaratorie della U.O. | Centro per l’innovaz...   \n",
              "2777  Calendari didattici DARCH | Centro per l’innov...   \n",
              "2778  Storia dell'Ateneo | Università degli Studi di...   \n",
              "\n",
              "                                                   addr  \\\n",
              "0     https://www.unipa.it/target/imprese/informazio...   \n",
              "1                     https://www.unipa.it/credits.html   \n",
              "2     https://www.unipa.it/strutture/cimdu/Sostegno-...   \n",
              "3                   https://www.unipa.it/progetti/pnrr/   \n",
              "4     https://www.unipa.it/Corsi-di-preparazione-all...   \n",
              "...                                                 ...   \n",
              "2774  https://www.unipa.it/strutture/cimdu/U.O.-Dida...   \n",
              "2775  https://www.unipa.it/strutture/cimdu/ricercato...   \n",
              "2776  https://www.unipa.it/strutture/cimdu/Declarato...   \n",
              "2777  https://www.unipa.it/strutture/cimdu/Calendari...   \n",
              "2778  https://www.unipa.it/ateneo/Storia-dellAteneo/...   \n",
              "\n",
              "                                                   text  \n",
              "0     Il D.M 55 del 3 aprile 2013 prevede l'obbligo ...  \n",
              "1     I contenuti della home page e delle relative s...  \n",
              "2       Da 15 anni ItaStra, Scuola di Lingua Italian...  \n",
              "3     Il Piano Nazionale di Ripresa e Resilienza - P...  \n",
              "4     Sono aperte le iscrizioni all’edizione inverna...  \n",
              "...                                                 ...  \n",
              "2774   Il Responsabile dell’U.O. Didattica e Interna...  \n",
              "2775  Per restare sempre aggiornati è possiblie iscr...  \n",
              "2776   La U.O. Didattica e Internazionalizzazione si...  \n",
              "2777  Calendario didattico DARCH A.A. 2024/2025  Cal...  \n",
              "2778  Il 12 gennaio 1806 Ferdinando III di Borbone, ...  \n",
              "\n",
              "[2779 rows x 3 columns]"
            ],
            "text/html": [
              "\n",
              "  <div id=\"df-ea0ecc46-14be-40af-a1f8-d394e52ceecc\" class=\"colab-df-container\">\n",
              "    <div>\n",
              "<style scoped>\n",
              "    .dataframe tbody tr th:only-of-type {\n",
              "        vertical-align: middle;\n",
              "    }\n",
              "\n",
              "    .dataframe tbody tr th {\n",
              "        vertical-align: top;\n",
              "    }\n",
              "\n",
              "    .dataframe thead th {\n",
              "        text-align: right;\n",
              "    }\n",
              "</style>\n",
              "<table border=\"1\" class=\"dataframe\">\n",
              "  <thead>\n",
              "    <tr style=\"text-align: right;\">\n",
              "      <th></th>\n",
              "      <th>title</th>\n",
              "      <th>addr</th>\n",
              "      <th>text</th>\n",
              "    </tr>\n",
              "  </thead>\n",
              "  <tbody>\n",
              "    <tr>\n",
              "      <th>0</th>\n",
              "      <td>Fatturazione elettronica | Università degli St...</td>\n",
              "      <td>https://www.unipa.it/target/imprese/informazio...</td>\n",
              "      <td>Il D.M 55 del 3 aprile 2013 prevede l'obbligo ...</td>\n",
              "    </tr>\n",
              "    <tr>\n",
              "      <th>1</th>\n",
              "      <td>Credits | Università degli Studi di Palermo</td>\n",
              "      <td>https://www.unipa.it/credits.html</td>\n",
              "      <td>I contenuti della home page e delle relative s...</td>\n",
              "    </tr>\n",
              "    <tr>\n",
              "      <th>2</th>\n",
              "      <td>Sostegno allo studio | Centro per l’innovazion...</td>\n",
              "      <td>https://www.unipa.it/strutture/cimdu/Sostegno-...</td>\n",
              "      <td>Da 15 anni ItaStra, Scuola di Lingua Italian...</td>\n",
              "    </tr>\n",
              "    <tr>\n",
              "      <th>3</th>\n",
              "      <td>PNRR | PNRR | Università degli Studi di Palermo</td>\n",
              "      <td>https://www.unipa.it/progetti/pnrr/</td>\n",
              "      <td>Il Piano Nazionale di Ripresa e Resilienza - P...</td>\n",
              "    </tr>\n",
              "    <tr>\n",
              "      <th>4</th>\n",
              "      <td>Corsi di preparazione alle prove di accesso A....</td>\n",
              "      <td>https://www.unipa.it/Corsi-di-preparazione-all...</td>\n",
              "      <td>Sono aperte le iscrizioni all’edizione inverna...</td>\n",
              "    </tr>\n",
              "    <tr>\n",
              "      <th>...</th>\n",
              "      <td>...</td>\n",
              "      <td>...</td>\n",
              "      <td>...</td>\n",
              "    </tr>\n",
              "    <tr>\n",
              "      <th>2774</th>\n",
              "      <td>U.O. Didattica e Internazionalizzazione - Desc...</td>\n",
              "      <td>https://www.unipa.it/strutture/cimdu/U.O.-Dida...</td>\n",
              "      <td>Il Responsabile dell’U.O. Didattica e Interna...</td>\n",
              "    </tr>\n",
              "    <tr>\n",
              "      <th>2775</th>\n",
              "      <td>Ricercatori neoassunti | Università degli Stud...</td>\n",
              "      <td>https://www.unipa.it/strutture/cimdu/ricercato...</td>\n",
              "      <td>Per restare sempre aggiornati è possiblie iscr...</td>\n",
              "    </tr>\n",
              "    <tr>\n",
              "      <th>2776</th>\n",
              "      <td>Declaratorie della U.O. | Centro per l’innovaz...</td>\n",
              "      <td>https://www.unipa.it/strutture/cimdu/Declarato...</td>\n",
              "      <td>La U.O. Didattica e Internazionalizzazione si...</td>\n",
              "    </tr>\n",
              "    <tr>\n",
              "      <th>2777</th>\n",
              "      <td>Calendari didattici DARCH | Centro per l’innov...</td>\n",
              "      <td>https://www.unipa.it/strutture/cimdu/Calendari...</td>\n",
              "      <td>Calendario didattico DARCH A.A. 2024/2025  Cal...</td>\n",
              "    </tr>\n",
              "    <tr>\n",
              "      <th>2778</th>\n",
              "      <td>Storia dell'Ateneo | Università degli Studi di...</td>\n",
              "      <td>https://www.unipa.it/ateneo/Storia-dellAteneo/...</td>\n",
              "      <td>Il 12 gennaio 1806 Ferdinando III di Borbone, ...</td>\n",
              "    </tr>\n",
              "  </tbody>\n",
              "</table>\n",
              "<p>2779 rows × 3 columns</p>\n",
              "</div>\n",
              "    <div class=\"colab-df-buttons\">\n",
              "\n",
              "  <div class=\"colab-df-container\">\n",
              "    <button class=\"colab-df-convert\" onclick=\"convertToInteractive('df-ea0ecc46-14be-40af-a1f8-d394e52ceecc')\"\n",
              "            title=\"Convert this dataframe to an interactive table.\"\n",
              "            style=\"display:none;\">\n",
              "\n",
              "  <svg xmlns=\"http://www.w3.org/2000/svg\" height=\"24px\" viewBox=\"0 -960 960 960\">\n",
              "    <path d=\"M120-120v-720h720v720H120Zm60-500h600v-160H180v160Zm220 220h160v-160H400v160Zm0 220h160v-160H400v160ZM180-400h160v-160H180v160Zm440 0h160v-160H620v160ZM180-180h160v-160H180v160Zm440 0h160v-160H620v160Z\"/>\n",
              "  </svg>\n",
              "    </button>\n",
              "\n",
              "  <style>\n",
              "    .colab-df-container {\n",
              "      display:flex;\n",
              "      gap: 12px;\n",
              "    }\n",
              "\n",
              "    .colab-df-convert {\n",
              "      background-color: #E8F0FE;\n",
              "      border: none;\n",
              "      border-radius: 50%;\n",
              "      cursor: pointer;\n",
              "      display: none;\n",
              "      fill: #1967D2;\n",
              "      height: 32px;\n",
              "      padding: 0 0 0 0;\n",
              "      width: 32px;\n",
              "    }\n",
              "\n",
              "    .colab-df-convert:hover {\n",
              "      background-color: #E2EBFA;\n",
              "      box-shadow: 0px 1px 2px rgba(60, 64, 67, 0.3), 0px 1px 3px 1px rgba(60, 64, 67, 0.15);\n",
              "      fill: #174EA6;\n",
              "    }\n",
              "\n",
              "    .colab-df-buttons div {\n",
              "      margin-bottom: 4px;\n",
              "    }\n",
              "\n",
              "    [theme=dark] .colab-df-convert {\n",
              "      background-color: #3B4455;\n",
              "      fill: #D2E3FC;\n",
              "    }\n",
              "\n",
              "    [theme=dark] .colab-df-convert:hover {\n",
              "      background-color: #434B5C;\n",
              "      box-shadow: 0px 1px 3px 1px rgba(0, 0, 0, 0.15);\n",
              "      filter: drop-shadow(0px 1px 2px rgba(0, 0, 0, 0.3));\n",
              "      fill: #FFFFFF;\n",
              "    }\n",
              "  </style>\n",
              "\n",
              "    <script>\n",
              "      const buttonEl =\n",
              "        document.querySelector('#df-ea0ecc46-14be-40af-a1f8-d394e52ceecc button.colab-df-convert');\n",
              "      buttonEl.style.display =\n",
              "        google.colab.kernel.accessAllowed ? 'block' : 'none';\n",
              "\n",
              "      async function convertToInteractive(key) {\n",
              "        const element = document.querySelector('#df-ea0ecc46-14be-40af-a1f8-d394e52ceecc');\n",
              "        const dataTable =\n",
              "          await google.colab.kernel.invokeFunction('convertToInteractive',\n",
              "                                                    [key], {});\n",
              "        if (!dataTable) return;\n",
              "\n",
              "        const docLinkHtml = 'Like what you see? Visit the ' +\n",
              "          '<a target=\"_blank\" href=https://colab.research.google.com/notebooks/data_table.ipynb>data table notebook</a>'\n",
              "          + ' to learn more about interactive tables.';\n",
              "        element.innerHTML = '';\n",
              "        dataTable['output_type'] = 'display_data';\n",
              "        await google.colab.output.renderOutput(dataTable, element);\n",
              "        const docLink = document.createElement('div');\n",
              "        docLink.innerHTML = docLinkHtml;\n",
              "        element.appendChild(docLink);\n",
              "      }\n",
              "    </script>\n",
              "  </div>\n",
              "\n",
              "\n",
              "<div id=\"df-3299a883-45dd-4d2a-a697-cc4a403f8b67\">\n",
              "  <button class=\"colab-df-quickchart\" onclick=\"quickchart('df-3299a883-45dd-4d2a-a697-cc4a403f8b67')\"\n",
              "            title=\"Suggest charts\"\n",
              "            style=\"display:none;\">\n",
              "\n",
              "<svg xmlns=\"http://www.w3.org/2000/svg\" height=\"24px\"viewBox=\"0 0 24 24\"\n",
              "     width=\"24px\">\n",
              "    <g>\n",
              "        <path d=\"M19 3H5c-1.1 0-2 .9-2 2v14c0 1.1.9 2 2 2h14c1.1 0 2-.9 2-2V5c0-1.1-.9-2-2-2zM9 17H7v-7h2v7zm4 0h-2V7h2v10zm4 0h-2v-4h2v4z\"/>\n",
              "    </g>\n",
              "</svg>\n",
              "  </button>\n",
              "\n",
              "<style>\n",
              "  .colab-df-quickchart {\n",
              "      --bg-color: #E8F0FE;\n",
              "      --fill-color: #1967D2;\n",
              "      --hover-bg-color: #E2EBFA;\n",
              "      --hover-fill-color: #174EA6;\n",
              "      --disabled-fill-color: #AAA;\n",
              "      --disabled-bg-color: #DDD;\n",
              "  }\n",
              "\n",
              "  [theme=dark] .colab-df-quickchart {\n",
              "      --bg-color: #3B4455;\n",
              "      --fill-color: #D2E3FC;\n",
              "      --hover-bg-color: #434B5C;\n",
              "      --hover-fill-color: #FFFFFF;\n",
              "      --disabled-bg-color: #3B4455;\n",
              "      --disabled-fill-color: #666;\n",
              "  }\n",
              "\n",
              "  .colab-df-quickchart {\n",
              "    background-color: var(--bg-color);\n",
              "    border: none;\n",
              "    border-radius: 50%;\n",
              "    cursor: pointer;\n",
              "    display: none;\n",
              "    fill: var(--fill-color);\n",
              "    height: 32px;\n",
              "    padding: 0;\n",
              "    width: 32px;\n",
              "  }\n",
              "\n",
              "  .colab-df-quickchart:hover {\n",
              "    background-color: var(--hover-bg-color);\n",
              "    box-shadow: 0 1px 2px rgba(60, 64, 67, 0.3), 0 1px 3px 1px rgba(60, 64, 67, 0.15);\n",
              "    fill: var(--button-hover-fill-color);\n",
              "  }\n",
              "\n",
              "  .colab-df-quickchart-complete:disabled,\n",
              "  .colab-df-quickchart-complete:disabled:hover {\n",
              "    background-color: var(--disabled-bg-color);\n",
              "    fill: var(--disabled-fill-color);\n",
              "    box-shadow: none;\n",
              "  }\n",
              "\n",
              "  .colab-df-spinner {\n",
              "    border: 2px solid var(--fill-color);\n",
              "    border-color: transparent;\n",
              "    border-bottom-color: var(--fill-color);\n",
              "    animation:\n",
              "      spin 1s steps(1) infinite;\n",
              "  }\n",
              "\n",
              "  @keyframes spin {\n",
              "    0% {\n",
              "      border-color: transparent;\n",
              "      border-bottom-color: var(--fill-color);\n",
              "      border-left-color: var(--fill-color);\n",
              "    }\n",
              "    20% {\n",
              "      border-color: transparent;\n",
              "      border-left-color: var(--fill-color);\n",
              "      border-top-color: var(--fill-color);\n",
              "    }\n",
              "    30% {\n",
              "      border-color: transparent;\n",
              "      border-left-color: var(--fill-color);\n",
              "      border-top-color: var(--fill-color);\n",
              "      border-right-color: var(--fill-color);\n",
              "    }\n",
              "    40% {\n",
              "      border-color: transparent;\n",
              "      border-right-color: var(--fill-color);\n",
              "      border-top-color: var(--fill-color);\n",
              "    }\n",
              "    60% {\n",
              "      border-color: transparent;\n",
              "      border-right-color: var(--fill-color);\n",
              "    }\n",
              "    80% {\n",
              "      border-color: transparent;\n",
              "      border-right-color: var(--fill-color);\n",
              "      border-bottom-color: var(--fill-color);\n",
              "    }\n",
              "    90% {\n",
              "      border-color: transparent;\n",
              "      border-bottom-color: var(--fill-color);\n",
              "    }\n",
              "  }\n",
              "</style>\n",
              "\n",
              "  <script>\n",
              "    async function quickchart(key) {\n",
              "      const quickchartButtonEl =\n",
              "        document.querySelector('#' + key + ' button');\n",
              "      quickchartButtonEl.disabled = true;  // To prevent multiple clicks.\n",
              "      quickchartButtonEl.classList.add('colab-df-spinner');\n",
              "      try {\n",
              "        const charts = await google.colab.kernel.invokeFunction(\n",
              "            'suggestCharts', [key], {});\n",
              "      } catch (error) {\n",
              "        console.error('Error during call to suggestCharts:', error);\n",
              "      }\n",
              "      quickchartButtonEl.classList.remove('colab-df-spinner');\n",
              "      quickchartButtonEl.classList.add('colab-df-quickchart-complete');\n",
              "    }\n",
              "    (() => {\n",
              "      let quickchartButtonEl =\n",
              "        document.querySelector('#df-3299a883-45dd-4d2a-a697-cc4a403f8b67 button');\n",
              "      quickchartButtonEl.style.display =\n",
              "        google.colab.kernel.accessAllowed ? 'block' : 'none';\n",
              "    })();\n",
              "  </script>\n",
              "</div>\n",
              "    </div>\n",
              "  </div>\n"
            ],
            "application/vnd.google.colaboratory.intrinsic+json": {
              "type": "dataframe",
              "variable_name": "tmp",
              "summary": "{\n  \"name\": \"tmp\",\n  \"rows\": 2779,\n  \"fields\": [\n    {\n      \"column\": \"title\",\n      \"properties\": {\n        \"dtype\": \"string\",\n        \"num_unique_values\": 2274,\n        \"samples\": [\n          \"Bando CUOA | Student enterprise program innovation and management | Universit\\u00e0 degli Studi di Palermo\",\n          \"Verbale del Seggio Elettorale, elezioni della Giunta del Dipartimento Bi.N.D. | Universit\\u00e0 degli Studi di Palermo\",\n          \"Eventi | Ingegneria | Universit\\u00e0 degli Studi di Palermo\"\n        ],\n        \"semantic_type\": \"\",\n        \"description\": \"\"\n      }\n    },\n    {\n      \"column\": \"addr\",\n      \"properties\": {\n        \"dtype\": \"string\",\n        \"num_unique_values\": 2779,\n        \"samples\": [\n          \"https://www.unipa.it/dipartimenti/bi.n.d./Elezioni-delle-componenti-elettive-del-Consiglio-del-Dipartimento-di-Biomedicina-Neuroscienze-e-Diagnostica-Avanzata/\",\n          \"https://www.unipa.it/dipartimenti/architettura/ricerca/prodotti.html\",\n          \"https://www.unipa.it/dipartimenti/dems/Esiste-davvero-la-governance-partecipativa/\"\n        ],\n        \"semantic_type\": \"\",\n        \"description\": \"\"\n      }\n    },\n    {\n      \"column\": \"text\",\n      \"properties\": {\n        \"dtype\": \"string\",\n        \"num_unique_values\": 2429,\n        \"samples\": [\n          \"Il trattamento dei dati personali effettuato mediante l'uso di sistemi di videosorveglianza non forma oggetto di legislazione specifica e, pertanto, si applicano le disposizioni generali in tema di protezione dei dati personali. Il Garante, in considerazione sia dei numerosi interventi legislativi in materia, sia dell'ingente quantit\\u00e0 di quesiti, segnalazioni, reclami e richieste di verifica preliminare, \\u00e8 intervenuto con il provvedimento - 8 aprile 2010 in tale settore (versione grafica). Pi\\u00f9 recentemente, il 29 gennaio 2020, il Comitato Europeo per la Protezione dei Dati (EDPB) ha adottato la versione definitiva delle Linee guida sui trattamenti di videosorveglianza che chiariscono i termini di applicazione del Regolamento 2016/679 per i trattamenti dei dati personali mediante l'utilizzo di dispositivi video, allo scopo di garantire l\\u2019applicazione coerente del GDPR in materia. Le linee guida riguardano sia i dispositivi video tradizionali sia i dispositivi video intelligenti. Rispetto a questi ultimi le linee guida si concentrano sulle norme relative al trattamento di categorie particolari di dati. Altre tematiche affrontate nel documento riguardano la liceit\\u00e0 del trattamento, l\\u2019applicabilit\\u00e0 dei criteri di esclusione relativi ai trattamenti in ambito domestico e la divulgazione di filmati a terzi. Per ulteriori contenuti e risorse aggiornati, si raccomanda la consultazione periodica della sezione Videosorveglianza del sito del Garante.\",\n          \"L\\u2019Universit\\u00e0 di Palermo e il Dipartimento della Funzione Pubblica hanno sottoscritto un protocollo di intesa di durata triennale per favorire l\\u2019iscrizione del personale della Pubblica Amministrazione a corsi di studio di I e di II livello attraverso percorsi dedicati e a condizioni agevolate. Il protocollo si inserisce all'interno del progetto PA 110 e lode promosso dal Ministero della Pubblica Amministrazione nell'ambito del pi\\u00f9 ampio piano denominato Ri-Formare la PA, il cui obiettivo \\u00e8 il rafforzamento delle conoscenze e delle competenze del personale in servizio presso le pubbliche amministrazioni.     Per essere ammessi ad un Corso di Laurea o ad un Corso di Laurea Magistrale a ciclo unico occorre essere in possesso di un Diploma di Scuola Secondaria Superiore o di altro titolo di studio conseguito all\\u2019estero riconosciuto idoneo nelle forme previste dal Regolamento Didattico di Ateneo. Per essere ammessi ad un Corso di Laurea Magistrale occorre essere in possesso della Laurea o del Diploma Universitario di durata triennale, ovvero di altro titolo di studio conseguito all\\u2019estero, riconosciuto idoneo nelle forme previste dal Regolamento Didattico di Ateneo. La frequenza delle lezioni frontali dei corsi di studio non \\u00e8 obbligatoria. La didattica pu\\u00f2 essere erogata in presenza e contestualmente a distanza in modalit\\u00e0 sincrona (attraverso piattaforme di videoconferenza), nonch\\u00e9 a distanza in modalit\\u00e0 asincrona (attraverso la messa a disposizione di lezioni videoregistrate). Le verifiche di profitto, invece, sono svolte esclusivamente in presenza. In deroga al Regolamento sulla contribuzione studentesca, l\\u2019importo del contributo unico onnicomprensivo a carico dello studente dipendente pubblico \\u00e8 fisso e pari a euro 600, indipendentemente dal valore ISEE (oltre la tassa regionale e l'imposta di bollo). I dipendenti pubblici beneficiano del contributo unico onnicomprensivo di importo fisso per l\\u2019iscrizione agli anni successivi al primo se conseguono almeno la met\\u00e0 dei CFU previsti per ciascun anno di corso e per un numero massimo di anni pari alla durata legale del corso pi\\u00f9 due. Lo studente dipendente pubblico che intende immatricolarsi ad uno dei corsi potr\\u00e0 seguire le indicazioni presenti nella pagina Come immatricolarsi.  \\u00c8 possibile ottenere una abbreviazione di corso all\\u2019atto dell\\u2019immatricolazione, per chi risulti gi\\u00e0 in possesso di un titolo di studio italiano o estero, o di una carriera accademica interrotta. \\u00c8 consentita, all\\u2019atto dell\\u2019immatricolazione o durante gli anni successivi, l'iscrizione a tempo parziale, con le modalit\\u00e0 previste nel vigente Regolamento di Ateneo sulla contribuzione studentesca.\",\n          \"Il nuovo corso di laurea in Biodiversit\\u00e0 e Innovazione Tecnologica punta a formare laureati che sappiano affrontare le sfide che la tutela della biodiversit\\u00e0 e il cambiamento climatico pongono alla nostra societ\\u00e0. Il cambiamento climatico e la perdita di biodiversit\\u00e0 degli ecosistemi sono intimamente collegati all\\u2019attivit\\u00e0 umana. Proporre e trovare soluzioni sostenibili richiede una visione integrata sulla biologia, l\\u2019ecologia e le tecnologie emergenti in campo biotecnologico, dell\\u2019intelligenza artificiale ma non solo. Il corso propone agli studenti un percorso di studi che si snoda tra:\"\n        ],\n        \"semantic_type\": \"\",\n        \"description\": \"\"\n      }\n    }\n  ]\n}"
            }
          },
          "metadata": {},
          "execution_count": 6
        }
      ]
    },
    {
      "cell_type": "code",
      "source": [
        "from haystack.dataclasses import Document\n",
        "\n",
        "titles = list(df[\"title\"].values)\n",
        "texts = list(df[\"text\"].values)\n",
        "raw_docs = []\n",
        "for title, text in zip(titles, texts):\n",
        "    raw_docs.append(Document(content=text, meta={\"name\": title or \"\"}))"
      ],
      "metadata": {
        "id": "jDppVcD3jPZd"
      },
      "execution_count": 14,
      "outputs": []
    },
    {
      "cell_type": "markdown",
      "metadata": {
        "id": "-JVo2FlEtbTZ"
      },
      "source": [
        "## The Indexing Pipeline"
      ]
    },
    {
      "cell_type": "code",
      "execution_count": 15,
      "metadata": {
        "id": "kLZ8HO4kpREU"
      },
      "outputs": [],
      "source": [
        "from haystack import Pipeline\n",
        "from haystack.document_stores.in_memory import InMemoryDocumentStore\n",
        "from haystack.components.preprocessors import DocumentCleaner, DocumentSplitter\n",
        "from haystack.components.embedders import SentenceTransformersTextEmbedder, SentenceTransformersDocumentEmbedder\n",
        "from haystack.components.writers import DocumentWriter\n",
        "from haystack.document_stores.types import DuplicatePolicy\n",
        "from haystack.utils import ComponentDevice"
      ]
    },
    {
      "cell_type": "markdown",
      "metadata": {
        "id": "qnGGIIQIGUqZ"
      },
      "source": [
        "We will save our final Documents in an `InMemoryDocumentStore`, a simple database which lives in memory."
      ]
    },
    {
      "cell_type": "code",
      "execution_count": 16,
      "metadata": {
        "id": "7vgQ3G3GwQ83"
      },
      "outputs": [],
      "source": [
        "document_store = InMemoryDocumentStore(embedding_similarity_function=\"cosine\")"
      ]
    },
    {
      "cell_type": "markdown",
      "metadata": {
        "id": "CA_vPfXmG9kf"
      },
      "source": [
        "Our indexing Pipeline transform the original Documents and save them in the Document Store.\n",
        "\n",
        "It consists of several components:\n",
        "\n",
        "- `DocumentCleaner`: performs a basic cleaning of the Documents\n",
        "- `DocumentSplitter`: chunks each Document into smaller pieces (more appropriate for semantic search and RAG)\n",
        "- `SentenceTransformersDocumentEmbedder`:\n",
        "  - represent each Document as a vector (capturing its meaning).\n",
        "  - we choose a good but not too big model from [MTEB leaderboard](https://huggingface.co/spaces/mteb/leaderboard).\n",
        "  - Also the metadata `title` is embedded, because it contains relevant information (`metadata_fields_to_embed` parameter).\n",
        "  - We use the GPU for this expensive operation (`device` parameter).\n",
        "- `DocumentWriter` just saves the Documents in the Document Store"
      ]
    },
    {
      "cell_type": "code",
      "execution_count": 17,
      "metadata": {
        "id": "htqK8XSTwOzP",
        "outputId": "9bff8849-49fb-4fdf-8d0e-af8216ae2287",
        "colab": {
          "base_uri": "https://localhost:8080/"
        }
      },
      "outputs": [
        {
          "output_type": "execute_result",
          "data": {
            "text/plain": [
              "<haystack.core.pipeline.pipeline.Pipeline object at 0x7c4e318da5c0>\n",
              "🚅 Components\n",
              "  - cleaner: DocumentCleaner\n",
              "  - splitter: DocumentSplitter\n",
              "  - doc_embedder: SentenceTransformersDocumentEmbedder\n",
              "  - writer: DocumentWriter\n",
              "🛤️ Connections\n",
              "  - cleaner.documents -> splitter.documents (List[Document])\n",
              "  - splitter.documents -> doc_embedder.documents (List[Document])\n",
              "  - doc_embedder.documents -> writer.documents (List[Document])"
            ]
          },
          "metadata": {},
          "execution_count": 17
        }
      ],
      "source": [
        "indexing = Pipeline()\n",
        "indexing.add_component(\"cleaner\", DocumentCleaner())\n",
        "indexing.add_component(\"splitter\", DocumentSplitter(split_by='sentence', split_length=2))\n",
        "indexing.add_component(\"doc_embedder\", SentenceTransformersDocumentEmbedder(model=\"thenlper/gte-large\",\n",
        "                                                                            device=ComponentDevice.from_str(\"cuda:0\"),\n",
        "                                                                            meta_fields_to_embed=[\"title\"]))\n",
        "indexing.add_component(\"writer\", DocumentWriter(document_store=document_store, policy=DuplicatePolicy.OVERWRITE))\n",
        "\n",
        "indexing.connect(\"cleaner\", \"splitter\")\n",
        "indexing.connect(\"splitter\", \"doc_embedder\")\n",
        "indexing.connect(\"doc_embedder\", \"writer\")\n"
      ]
    },
    {
      "cell_type": "markdown",
      "metadata": {
        "id": "OdyNplHCIx6Q"
      },
      "source": [
        "We finally run the indexing pipeline"
      ]
    },
    {
      "cell_type": "code",
      "execution_count": 19,
      "metadata": {
        "colab": {
          "base_uri": "https://localhost:8080/",
          "height": 66,
          "referenced_widgets": [
            "d7f36ecd7aef4b498cf161d751de8880",
            "91365b1fc55846ecb963504f5123605c",
            "35ddd2b0f649476192233e9e49cc7e25",
            "909190010cc0412aa4d20dc4b566c2fe",
            "05f4258269ca477890ea849f10a43144",
            "828c7eaaa1b7440f808dfe51b8c1e3d4",
            "5dea6c44befc497c8cb3a439a49cfac6",
            "ae01138b6ff548e394148cf7d8e30a08",
            "910fbae4c3b540268972fac850e51d0e",
            "acf343886e52463fbddb4dd6c6c230f3",
            "f128968860484b6e967df2432bb00f2e"
          ]
        },
        "id": "aDwOrN7AxqJq",
        "outputId": "28ab4afe-338f-4e1e-f062-ec310b41e558"
      },
      "outputs": [
        {
          "output_type": "display_data",
          "data": {
            "text/plain": [
              "Batches:   0%|          | 0/982 [00:00<?, ?it/s]"
            ],
            "application/vnd.jupyter.widget-view+json": {
              "version_major": 2,
              "version_minor": 0,
              "model_id": "d7f36ecd7aef4b498cf161d751de8880"
            }
          },
          "metadata": {}
        },
        {
          "output_type": "execute_result",
          "data": {
            "text/plain": [
              "{'writer': {'documents_written': 31401}}"
            ]
          },
          "metadata": {},
          "execution_count": 19
        }
      ],
      "source": [
        "indexing.run({\"cleaner\":{\"documents\":raw_docs}})"
      ]
    },
    {
      "cell_type": "markdown",
      "metadata": {
        "id": "2fKU3I7QI150"
      },
      "source": [
        "Let's inspect the total number of chunked Documents and examine a Document"
      ]
    },
    {
      "cell_type": "code",
      "execution_count": 20,
      "metadata": {
        "colab": {
          "base_uri": "https://localhost:8080/"
        },
        "id": "Sdm24cCyyGPg",
        "outputId": "fe3da884-c8d8-4661-9964-cdb360275cfa"
      },
      "outputs": [
        {
          "output_type": "execute_result",
          "data": {
            "text/plain": [
              "26532"
            ]
          },
          "metadata": {},
          "execution_count": 20
        }
      ],
      "source": [
        "len(document_store.filter_documents())"
      ]
    },
    {
      "cell_type": "code",
      "execution_count": 21,
      "metadata": {
        "colab": {
          "base_uri": "https://localhost:8080/"
        },
        "id": "G4FQ2mCrHUWp",
        "outputId": "6a34191e-fa6e-4df6-8cd5-5a8fe1f042f4"
      },
      "outputs": [
        {
          "output_type": "execute_result",
          "data": {
            "text/plain": [
              "{'name': 'Fatturazione elettronica | Università degli Studi di Palermo',\n",
              " 'source_id': 'fb89b71ef4cae3fde427ba015dc85455cdf30a511926b9ccee38c27ec93a7c34',\n",
              " 'page_number': 1}"
            ]
          },
          "metadata": {},
          "execution_count": 21
        }
      ],
      "source": [
        "document_store.filter_documents()[0].meta"
      ]
    },
    {
      "cell_type": "code",
      "execution_count": 22,
      "metadata": {
        "colab": {
          "base_uri": "https://localhost:8080/"
        },
        "id": "-revytESzXct",
        "outputId": "89a9d6e9-98fc-4727-d242-64fcf15081e0"
      },
      "outputs": [
        {
          "output_type": "stream",
          "name": "stdout",
          "text": [
            "Document(id=bc2a342a7b442e56d4b09526918e347f4e7ccfc79dcd55f5fa700142fad4a87d, content: 'Il D.M 55 del 3 aprile 2013 prevede l'obbligo della fatturazione elettronica in tutti i rapporti con...', meta: {'name': 'Fatturazione elettronica | Università degli Studi di Palermo', 'source_id': 'fb89b71ef4cae3fde427ba015dc85455cdf30a511926b9ccee38c27ec93a7c34', 'page_number': 1}, embedding: vector of size 1024)\n",
            "1024\n"
          ]
        }
      ],
      "source": [
        "pprint(document_store.filter_documents()[0])\n",
        "print(len(document_store.filter_documents()[0].embedding)) # embedding size"
      ]
    },
    {
      "cell_type": "markdown",
      "metadata": {
        "id": "MIl9x5WU3_yD"
      },
      "source": [
        "## The RAG Pipeline"
      ]
    },
    {
      "cell_type": "markdown",
      "metadata": {
        "id": "p1Xuf4TgTHKz"
      },
      "source": [
        "### `HuggingFaceLocalGenerator` with `zephyr-7b-beta`\n",
        "\n",
        "- To load and manage Open Source LLMs in Haystack 2.0, we can use the `HuggingFaceLocalGenerator`.\n",
        "\n",
        "- The LLM we choose is [Zephyr 7B Beta](https://huggingface.co/HuggingFaceH4/zephyr-7b-beta), a fine-tuned version of Mistral 7B V.01 that focuses on helpfulness and outperforms many larger models on the MT-Bench and AlpacaEval benchmarks; the model was fine-tuned by the Hugging Face team.\n",
        "\n",
        "- Since we are using a free Colab instance (with limited resources), we load the model using **4-bit quantization** (passing the appropriate `huggingface_pipeline_kwargs` to our Generator).\n",
        "For an introduction to Quantization in Hugging Face Transformers, you can read [this simple blog post](https://huggingface.co/blog/merve/quantization).\n",
        "\n"
      ]
    },
    {
      "cell_type": "code",
      "execution_count": 23,
      "metadata": {
        "id": "a4Qs0jAf3K82"
      },
      "outputs": [],
      "source": [
        "from haystack.components.generators import HuggingFaceLocalGenerator"
      ]
    },
    {
      "cell_type": "code",
      "execution_count": 24,
      "metadata": {
        "id": "7EEZeWSV7ejs"
      },
      "outputs": [],
      "source": [
        "generator = HuggingFaceLocalGenerator(\"HuggingFaceH4/zephyr-7b-beta\",\n",
        "                                 huggingface_pipeline_kwargs={\"device_map\":\"auto\",\n",
        "                                               \"model_kwargs\":{\"load_in_4bit\":True,\n",
        "                                                \"bnb_4bit_use_double_quant\":True,\n",
        "                                                \"bnb_4bit_quant_type\":\"nf4\",\n",
        "                                                \"bnb_4bit_compute_dtype\":torch.bfloat16}},\n",
        "                                 generation_kwargs={\"max_new_tokens\": 350})"
      ]
    },
    {
      "cell_type": "markdown",
      "metadata": {
        "id": "mc_6N6xJWMyf"
      },
      "source": [
        "Let's warm up the component and try the model..."
      ]
    },
    {
      "cell_type": "code",
      "execution_count": 25,
      "metadata": {
        "colab": {
          "base_uri": "https://localhost:8080/",
          "height": 86,
          "referenced_widgets": [
            "f6b74b4857114e938ca2033ed8fb983f",
            "8cfc498c6a364f309a07c6922148f87f",
            "5ae4a951ef4d4cf7bb4e59fae17e4fe5",
            "e9cb826ef4a74fb1bfa5b73e6509f944",
            "fcb4c9d73add4af1be6f7a8789898534",
            "fc6cad801a294373a2f9d7c170afef93",
            "2d1a6e26519842e68ec299bc82eb7493",
            "1575a8bfb5ee497bacd42f697cbad678",
            "66dd88fe7e8e40568f47840faedeaf38",
            "75f54bf828364aff8f61a00093877c3c",
            "0222b90679794e4b944f428a74d053a8"
          ]
        },
        "id": "I1_ih9bnWMG3",
        "outputId": "d7a842f1-e680-4dfd-9025-4eec9a9cd4d0"
      },
      "outputs": [
        {
          "output_type": "stream",
          "name": "stderr",
          "text": [
            "The `load_in_4bit` and `load_in_8bit` arguments are deprecated and will be removed in the future versions. Please, pass a `BitsAndBytesConfig` object in `quantization_config` argument instead.\n"
          ]
        },
        {
          "output_type": "display_data",
          "data": {
            "text/plain": [
              "Loading checkpoint shards:   0%|          | 0/8 [00:00<?, ?it/s]"
            ],
            "application/vnd.jupyter.widget-view+json": {
              "version_major": 2,
              "version_minor": 0,
              "model_id": "f6b74b4857114e938ca2033ed8fb983f"
            }
          },
          "metadata": {}
        }
      ],
      "source": [
        "generator.warm_up()"
      ]
    },
    {
      "cell_type": "markdown",
      "metadata": {
        "id": "BDwuO18KXsOK"
      },
      "source": [
        "### `PromptBuilder`\n",
        "\n",
        " It's a component that renders a prompt from a template string using Jinja2 engine.\n",
        "\n",
        " Let's setup our prompt builder, with a format like the following (appropriate for Zephyr):\n",
        "\n",
        " `\"<|system|>\\nSYSTEM MESSAGE</s>\\n<|user|>\\nUSER MESSAGE</s>\\n<|assistant|>\\n\"`"
      ]
    },
    {
      "cell_type": "code",
      "execution_count": 26,
      "metadata": {
        "id": "kaU0aYEE3YmR"
      },
      "outputs": [],
      "source": [
        "from haystack.components.builders import PromptBuilder\n",
        "\n",
        "prompt_template = \"\"\"<|system|>Using the information contained in the context, give a comprehensive answer to the question.\n",
        "If the answer is contained in the context, also report the source URL.\n",
        "If the answer cannot be deduced from the context, do not give an answer.</s>\n",
        "<|user|>\n",
        "Context:\n",
        "  {% for doc in documents %}\n",
        "  {{ doc.content }} URL:{{ doc.meta['url'] }}\n",
        "  {% endfor %};\n",
        "  Question: {{query}}\n",
        "  </s>\n",
        "<|assistant|>\n",
        "\"\"\"\n",
        "prompt_builder = PromptBuilder(template=prompt_template)"
      ]
    },
    {
      "cell_type": "markdown",
      "metadata": {
        "id": "zksvYdLQawH-"
      },
      "source": [
        "### Let's create the RAG pipeline"
      ]
    },
    {
      "cell_type": "code",
      "execution_count": 27,
      "metadata": {
        "id": "VdktvKPeCqk6"
      },
      "outputs": [],
      "source": [
        "from haystack.components.retrievers.in_memory import InMemoryEmbeddingRetriever"
      ]
    },
    {
      "cell_type": "markdown",
      "metadata": {
        "id": "wy0igRBObDHA"
      },
      "source": [
        "Our RAG Pipeline finds Documents relevant to the user query and pass them to the LLM to generate a grounded answer.\n",
        "\n",
        "It consists of several components:\n",
        "\n",
        "- `SentenceTransformersTextEmbedder`: represent the query as a vector (capturing its meaning).\n",
        "- `InMemoryEmbeddingRetriever`: finds the (top 5) Documents that are most similar to the query vector\n",
        "- `PromptBuilder`\n",
        "- `HuggingFaceLocalGenerator`"
      ]
    },
    {
      "cell_type": "code",
      "execution_count": 28,
      "metadata": {
        "id": "TOzjzUuaCbFI",
        "outputId": "b72e4f48-312f-4d8d-a47a-15408bc651c7",
        "colab": {
          "base_uri": "https://localhost:8080/"
        }
      },
      "outputs": [
        {
          "output_type": "execute_result",
          "data": {
            "text/plain": [
              "<haystack.core.pipeline.pipeline.Pipeline object at 0x7c4d61a866b0>\n",
              "🚅 Components\n",
              "  - text_embedder: SentenceTransformersTextEmbedder\n",
              "  - retriever: InMemoryEmbeddingRetriever\n",
              "  - prompt_builder: PromptBuilder\n",
              "  - llm: HuggingFaceLocalGenerator\n",
              "🛤️ Connections\n",
              "  - text_embedder.embedding -> retriever.query_embedding (List[float])\n",
              "  - retriever.documents -> prompt_builder.documents (List[Document])\n",
              "  - prompt_builder.prompt -> llm.prompt (str)"
            ]
          },
          "metadata": {},
          "execution_count": 28
        }
      ],
      "source": [
        "rag = Pipeline()\n",
        "rag.add_component(\"text_embedder\", SentenceTransformersTextEmbedder(model=\"thenlper/gte-large\",\n",
        "                                                                    device=ComponentDevice.from_str(\"cuda:0\")))\n",
        "rag.add_component(\"retriever\", InMemoryEmbeddingRetriever(document_store=document_store, top_k=5))\n",
        "rag.add_component(\"prompt_builder\", prompt_builder)\n",
        "rag.add_component(\"llm\", generator)\n",
        "\n",
        "rag.connect(\"text_embedder\", \"retriever\")\n",
        "rag.connect(\"retriever.documents\", \"prompt_builder.documents\")\n",
        "rag.connect(\"prompt_builder.prompt\", \"llm.prompt\")"
      ]
    },
    {
      "cell_type": "markdown",
      "metadata": {
        "id": "kuxOtfEUb41x"
      },
      "source": [
        "Visualize our pipeline!"
      ]
    },
    {
      "cell_type": "markdown",
      "metadata": {
        "id": "TAXZcJfSb_dY"
      },
      "source": [
        "We create an utility function that runs the RAG pipeline and nicely prints the answer."
      ]
    },
    {
      "cell_type": "code",
      "execution_count": 29,
      "metadata": {
        "id": "Y4kt0GPJDPXm"
      },
      "outputs": [],
      "source": [
        "def get_generative_answer(query):\n",
        "\n",
        "  results = rag.run({\n",
        "      \"text_embedder\": {\"text\": query},\n",
        "      \"prompt_builder\": {\"query\": query}\n",
        "    }\n",
        "  )\n",
        "\n",
        "  answer = results[\"llm\"][\"replies\"][0]\n",
        "  rich.print(answer)"
      ]
    },
    {
      "cell_type": "markdown",
      "metadata": {
        "id": "2BbF5qeocMzK"
      },
      "source": [
        "Let's try our RAG pipeline..."
      ]
    },
    {
      "cell_type": "code",
      "execution_count": 30,
      "metadata": {
        "colab": {
          "base_uri": "https://localhost:8080/",
          "height": 168,
          "referenced_widgets": [
            "f940438ce20848aaafe99d1fa1dbadf3",
            "c99f321dea824c25ac4e04d22f1e7d5e",
            "36d238bf2f1a4fe8a4fefa2f8f4603ae",
            "617338a7b6e94c3882064c6ae8b1a6df",
            "82d548ebbb3143d095c3d708a1084208",
            "4cf5e90f99ee4283bece1955cb061bfd",
            "8a086552c960445484be3ceaaa9f8d8c",
            "63dd96afc20b44d1ae89b9f1bfb6992f",
            "60032356e5484f14a23a4a4a75262226",
            "6c623284b315459295a31107bd1bc64d",
            "86a96fc64dd84477b65936f5b30f6817"
          ]
        },
        "id": "cYWX7sjtDqaL",
        "outputId": "42886946-4787-4b7f-ea3f-69971167cc0c"
      },
      "outputs": [
        {
          "output_type": "display_data",
          "data": {
            "text/plain": [
              "Batches:   0%|          | 0/1 [00:00<?, ?it/s]"
            ],
            "application/vnd.jupyter.widget-view+json": {
              "version_major": 2,
              "version_minor": 0,
              "model_id": "f940438ce20848aaafe99d1fa1dbadf3"
            }
          },
          "metadata": {}
        },
        {
          "output_type": "display_data",
          "data": {
            "text/plain": [
              "\n",
              "The context provided does not offer any information about the style of the Cure. Therefore, I am unable to provide \n",
              "an answer.\n",
              "\n",
              "Note: The provided context appears to be a collection of email addresses and URLs that do not seem to be related to\n",
              "each other or provide any context for answering the question. It is possible that the question was provided in \n",
              "error or that additional context is needed to answer it accurately. Without further information, it is best to \n",
              "assume that the answer cannot be deduced from the provided context.\n"
            ],
            "text/html": [
              "<pre style=\"white-space:pre;overflow-x:auto;line-height:normal;font-family:Menlo,'DejaVu Sans Mono',consolas,'Courier New',monospace\">\n",
              "The context provided does not offer any information about the style of the Cure. Therefore, I am unable to provide \n",
              "an answer.\n",
              "\n",
              "Note: The provided context appears to be a collection of email addresses and URLs that do not seem to be related to\n",
              "each other or provide any context for answering the question. It is possible that the question was provided in \n",
              "error or that additional context is needed to answer it accurately. Without further information, it is best to \n",
              "assume that the answer cannot be deduced from the provided context.\n",
              "</pre>\n"
            ]
          },
          "metadata": {}
        }
      ],
      "source": [
        "get_generative_answer(\"What is the style of the Cure?\")"
      ]
    },
    {
      "cell_type": "code",
      "execution_count": 36,
      "metadata": {
        "colab": {
          "base_uri": "https://localhost:8080/",
          "height": 440,
          "referenced_widgets": [
            "cafa0fc41bed4edfac3313d04a3dc76b",
            "4532ef3de7244bd3b51df7397fa850bd",
            "68913be07f5d43608c2db906e5e7410c",
            "d176f0f1809c4c5bad4217d7a85693c7",
            "d884e3fb892d4c85a18a826ae363b66e",
            "f9c31ff887cf4b15b9e7584016d700f7",
            "9a27bc2748c24aeea42d6fb6d8c97075",
            "92b00c9c59ac4152a0d611c7acac536c",
            "18ce0e1843f9489e8c2724136d12452a",
            "afea84913d5d4cc282193392a5b4d4dd",
            "bc9cb3c5111149f9b7389c7a0442c622"
          ]
        },
        "id": "DzKtIIPxK1lN",
        "outputId": "b9e8816e-b73a-43e0-9f47-c9bf277f304a"
      },
      "outputs": [
        {
          "output_type": "display_data",
          "data": {
            "text/plain": [
              "Batches:   0%|          | 0/1 [00:00<?, ?it/s]"
            ],
            "application/vnd.jupyter.widget-view+json": {
              "version_major": 2,
              "version_minor": 0,
              "model_id": "cafa0fc41bed4edfac3313d04a3dc76b"
            }
          },
          "metadata": {}
        },
        {
          "output_type": "display_data",
          "data": {
            "text/plain": [
              "\n",
              "The provided context lists a comprehensive list of rectors, or university presidents, of the University of Palermo \n",
              "for various historical periods. The list includes:\n",
              "\n",
              "- Regno di Sicilia:\n",
              "  - Gabriele Castelli \u001b[1m(\u001b[0m\u001b[1;36m1781\u001b[0m-\u001b[1;36m1800\u001b[0m\u001b[1m)\u001b[0m\n",
              "  - Gregorio Speciale \u001b[1m(\u001b[0m\u001b[1;36m1801\u001b[0m-\u001b[1;36m1805\u001b[0m\u001b[1m)\u001b[0m\n",
              "  - Raimondo Palermo \u001b[1m(\u001b[0m\u001b[1;36m1806\u001b[0m-\u001b[1;36m1816\u001b[0m\u001b[1m)\u001b[0m\n",
              "\n",
              "- Regno delle Due Sicilie:\n",
              "  - Raimondo Palermo \u001b[1m(\u001b[0m\u001b[1;36m1816\u001b[0m-\u001b[1;36m1840\u001b[0m\u001b[1m)\u001b[0m\n",
              "\n",
              "- Regno d'Italia:\n",
              "  - Alessandro Casano \u001b[1m(\u001b[0m\u001b[1;36m1841\u001b[0m-\u001b[1;36m1843\u001b[0m\u001b[1m)\u001b[0m\n",
              "  - Giuseppe D'Agostino \u001b[1m(\u001b[0m\u001b[1;36m1844\u001b[0m-\u001b[1;36m1855\u001b[0m\u001b[1m)\u001b[0m\n",
              "  - Giovanni Laviosa \u001b[1m(\u001b[0m\u001b[1;36m1856\u001b[0m-\u001b[1;36m1858\u001b[0m\u001b[1m)\u001b[0m\n",
              "  - Giovanni Cumbo \u001b[1m(\u001b[0m\u001b[1;36m1858\u001b[0m-\u001b[1;36m1860\u001b[0m\u001b[1m)\u001b[0m\n",
              "  - Filippo Casoria \u001b[1m(\u001b[0m\u001b[1;36m1860\u001b[0m-\u001b[1;36m1861\u001b[0m\u001b[1m)\u001b[0m\n",
              "  - Salvatore Cacopardo \u001b[1m(\u001b[0m\u001b[1;36m1861\u001b[0m-\u001b[1;36m1862\u001b[0m\u001b[1m)\u001b[0m\n",
              "  - Nicolò Musumeci \u001b[1m(\u001b[0m\u001b[1;36m1863\u001b[0m-\u001b[1;36m1865\u001b[0m\u001b[1m)\u001b[0m\n",
              "  - Stanislao Cannizzaro \u001b[1m(\u001b[0m\u001b[1;36m1866\u001b[0m-\u001b[1;36m1868\u001b[0m\u001b[1m)\u001b[0m\n",
              "  - Giuseppe Albeggiani \u001b[1m(\u001b[0m\u001b[1;36m1869\u001b[0m-\u001b[1;36m1874\u001b[0m\u001b[1m)\u001b[0m\n",
              "  - Gaetano Giorgio Gemmellaro \u001b[1m(\u001b[0m\u001b[1;36m1874\u001b[0m-\u001b[1;36m1876\u001b[0m\u001b[1m)\u001b[0m\n",
              "  - Antonino Garajo \u001b[1m(\u001b[0m\u001b[1;36m1877\u001b[0m-\u001b[1;36m1\u001b[0m\n"
            ],
            "text/html": [
              "<pre style=\"white-space:pre;overflow-x:auto;line-height:normal;font-family:Menlo,'DejaVu Sans Mono',consolas,'Courier New',monospace\">\n",
              "The provided context lists a comprehensive list of rectors, or university presidents, of the University of Palermo \n",
              "for various historical periods. The list includes:\n",
              "\n",
              "- Regno di Sicilia:\n",
              "  - Gabriele Castelli <span style=\"font-weight: bold\">(</span><span style=\"color: #008080; text-decoration-color: #008080; font-weight: bold\">1781</span>-<span style=\"color: #008080; text-decoration-color: #008080; font-weight: bold\">1800</span><span style=\"font-weight: bold\">)</span>\n",
              "  - Gregorio Speciale <span style=\"font-weight: bold\">(</span><span style=\"color: #008080; text-decoration-color: #008080; font-weight: bold\">1801</span>-<span style=\"color: #008080; text-decoration-color: #008080; font-weight: bold\">1805</span><span style=\"font-weight: bold\">)</span>\n",
              "  - Raimondo Palermo <span style=\"font-weight: bold\">(</span><span style=\"color: #008080; text-decoration-color: #008080; font-weight: bold\">1806</span>-<span style=\"color: #008080; text-decoration-color: #008080; font-weight: bold\">1816</span><span style=\"font-weight: bold\">)</span>\n",
              "\n",
              "- Regno delle Due Sicilie:\n",
              "  - Raimondo Palermo <span style=\"font-weight: bold\">(</span><span style=\"color: #008080; text-decoration-color: #008080; font-weight: bold\">1816</span>-<span style=\"color: #008080; text-decoration-color: #008080; font-weight: bold\">1840</span><span style=\"font-weight: bold\">)</span>\n",
              "\n",
              "- Regno d'Italia:\n",
              "  - Alessandro Casano <span style=\"font-weight: bold\">(</span><span style=\"color: #008080; text-decoration-color: #008080; font-weight: bold\">1841</span>-<span style=\"color: #008080; text-decoration-color: #008080; font-weight: bold\">1843</span><span style=\"font-weight: bold\">)</span>\n",
              "  - Giuseppe D'Agostino <span style=\"font-weight: bold\">(</span><span style=\"color: #008080; text-decoration-color: #008080; font-weight: bold\">1844</span>-<span style=\"color: #008080; text-decoration-color: #008080; font-weight: bold\">1855</span><span style=\"font-weight: bold\">)</span>\n",
              "  - Giovanni Laviosa <span style=\"font-weight: bold\">(</span><span style=\"color: #008080; text-decoration-color: #008080; font-weight: bold\">1856</span>-<span style=\"color: #008080; text-decoration-color: #008080; font-weight: bold\">1858</span><span style=\"font-weight: bold\">)</span>\n",
              "  - Giovanni Cumbo <span style=\"font-weight: bold\">(</span><span style=\"color: #008080; text-decoration-color: #008080; font-weight: bold\">1858</span>-<span style=\"color: #008080; text-decoration-color: #008080; font-weight: bold\">1860</span><span style=\"font-weight: bold\">)</span>\n",
              "  - Filippo Casoria <span style=\"font-weight: bold\">(</span><span style=\"color: #008080; text-decoration-color: #008080; font-weight: bold\">1860</span>-<span style=\"color: #008080; text-decoration-color: #008080; font-weight: bold\">1861</span><span style=\"font-weight: bold\">)</span>\n",
              "  - Salvatore Cacopardo <span style=\"font-weight: bold\">(</span><span style=\"color: #008080; text-decoration-color: #008080; font-weight: bold\">1861</span>-<span style=\"color: #008080; text-decoration-color: #008080; font-weight: bold\">1862</span><span style=\"font-weight: bold\">)</span>\n",
              "  - Nicolò Musumeci <span style=\"font-weight: bold\">(</span><span style=\"color: #008080; text-decoration-color: #008080; font-weight: bold\">1863</span>-<span style=\"color: #008080; text-decoration-color: #008080; font-weight: bold\">1865</span><span style=\"font-weight: bold\">)</span>\n",
              "  - Stanislao Cannizzaro <span style=\"font-weight: bold\">(</span><span style=\"color: #008080; text-decoration-color: #008080; font-weight: bold\">1866</span>-<span style=\"color: #008080; text-decoration-color: #008080; font-weight: bold\">1868</span><span style=\"font-weight: bold\">)</span>\n",
              "  - Giuseppe Albeggiani <span style=\"font-weight: bold\">(</span><span style=\"color: #008080; text-decoration-color: #008080; font-weight: bold\">1869</span>-<span style=\"color: #008080; text-decoration-color: #008080; font-weight: bold\">1874</span><span style=\"font-weight: bold\">)</span>\n",
              "  - Gaetano Giorgio Gemmellaro <span style=\"font-weight: bold\">(</span><span style=\"color: #008080; text-decoration-color: #008080; font-weight: bold\">1874</span>-<span style=\"color: #008080; text-decoration-color: #008080; font-weight: bold\">1876</span><span style=\"font-weight: bold\">)</span>\n",
              "  - Antonino Garajo <span style=\"font-weight: bold\">(</span><span style=\"color: #008080; text-decoration-color: #008080; font-weight: bold\">1877</span>-<span style=\"color: #008080; text-decoration-color: #008080; font-weight: bold\">1</span>\n",
              "</pre>\n"
            ]
          },
          "metadata": {}
        }
      ],
      "source": [
        "get_generative_answer(\"Who were the deans of University of Palermo?\")"
      ]
    }
  ],
  "metadata": {
    "accelerator": "GPU",
    "colab": {
      "gpuType": "T4",
      "provenance": []
    },
    "kernelspec": {
      "display_name": "Python 3",
      "name": "python3"
    },
    "language_info": {
      "name": "python"
    },
    "widgets": {
      "application/vnd.jupyter.widget-state+json": {
        "d7f36ecd7aef4b498cf161d751de8880": {
          "model_module": "@jupyter-widgets/controls",
          "model_name": "HBoxModel",
          "model_module_version": "1.5.0",
          "state": {
            "_dom_classes": [],
            "_model_module": "@jupyter-widgets/controls",
            "_model_module_version": "1.5.0",
            "_model_name": "HBoxModel",
            "_view_count": null,
            "_view_module": "@jupyter-widgets/controls",
            "_view_module_version": "1.5.0",
            "_view_name": "HBoxView",
            "box_style": "",
            "children": [
              "IPY_MODEL_91365b1fc55846ecb963504f5123605c",
              "IPY_MODEL_35ddd2b0f649476192233e9e49cc7e25",
              "IPY_MODEL_909190010cc0412aa4d20dc4b566c2fe"
            ],
            "layout": "IPY_MODEL_05f4258269ca477890ea849f10a43144"
          }
        },
        "91365b1fc55846ecb963504f5123605c": {
          "model_module": "@jupyter-widgets/controls",
          "model_name": "HTMLModel",
          "model_module_version": "1.5.0",
          "state": {
            "_dom_classes": [],
            "_model_module": "@jupyter-widgets/controls",
            "_model_module_version": "1.5.0",
            "_model_name": "HTMLModel",
            "_view_count": null,
            "_view_module": "@jupyter-widgets/controls",
            "_view_module_version": "1.5.0",
            "_view_name": "HTMLView",
            "description": "",
            "description_tooltip": null,
            "layout": "IPY_MODEL_828c7eaaa1b7440f808dfe51b8c1e3d4",
            "placeholder": "​",
            "style": "IPY_MODEL_5dea6c44befc497c8cb3a439a49cfac6",
            "value": "Batches: 100%"
          }
        },
        "35ddd2b0f649476192233e9e49cc7e25": {
          "model_module": "@jupyter-widgets/controls",
          "model_name": "FloatProgressModel",
          "model_module_version": "1.5.0",
          "state": {
            "_dom_classes": [],
            "_model_module": "@jupyter-widgets/controls",
            "_model_module_version": "1.5.0",
            "_model_name": "FloatProgressModel",
            "_view_count": null,
            "_view_module": "@jupyter-widgets/controls",
            "_view_module_version": "1.5.0",
            "_view_name": "ProgressView",
            "bar_style": "success",
            "description": "",
            "description_tooltip": null,
            "layout": "IPY_MODEL_ae01138b6ff548e394148cf7d8e30a08",
            "max": 982,
            "min": 0,
            "orientation": "horizontal",
            "style": "IPY_MODEL_910fbae4c3b540268972fac850e51d0e",
            "value": 982
          }
        },
        "909190010cc0412aa4d20dc4b566c2fe": {
          "model_module": "@jupyter-widgets/controls",
          "model_name": "HTMLModel",
          "model_module_version": "1.5.0",
          "state": {
            "_dom_classes": [],
            "_model_module": "@jupyter-widgets/controls",
            "_model_module_version": "1.5.0",
            "_model_name": "HTMLModel",
            "_view_count": null,
            "_view_module": "@jupyter-widgets/controls",
            "_view_module_version": "1.5.0",
            "_view_name": "HTMLView",
            "description": "",
            "description_tooltip": null,
            "layout": "IPY_MODEL_acf343886e52463fbddb4dd6c6c230f3",
            "placeholder": "​",
            "style": "IPY_MODEL_f128968860484b6e967df2432bb00f2e",
            "value": " 982/982 [07:17&lt;00:00, 32.71it/s]"
          }
        },
        "05f4258269ca477890ea849f10a43144": {
          "model_module": "@jupyter-widgets/base",
          "model_name": "LayoutModel",
          "model_module_version": "1.2.0",
          "state": {
            "_model_module": "@jupyter-widgets/base",
            "_model_module_version": "1.2.0",
            "_model_name": "LayoutModel",
            "_view_count": null,
            "_view_module": "@jupyter-widgets/base",
            "_view_module_version": "1.2.0",
            "_view_name": "LayoutView",
            "align_content": null,
            "align_items": null,
            "align_self": null,
            "border": null,
            "bottom": null,
            "display": null,
            "flex": null,
            "flex_flow": null,
            "grid_area": null,
            "grid_auto_columns": null,
            "grid_auto_flow": null,
            "grid_auto_rows": null,
            "grid_column": null,
            "grid_gap": null,
            "grid_row": null,
            "grid_template_areas": null,
            "grid_template_columns": null,
            "grid_template_rows": null,
            "height": null,
            "justify_content": null,
            "justify_items": null,
            "left": null,
            "margin": null,
            "max_height": null,
            "max_width": null,
            "min_height": null,
            "min_width": null,
            "object_fit": null,
            "object_position": null,
            "order": null,
            "overflow": null,
            "overflow_x": null,
            "overflow_y": null,
            "padding": null,
            "right": null,
            "top": null,
            "visibility": null,
            "width": null
          }
        },
        "828c7eaaa1b7440f808dfe51b8c1e3d4": {
          "model_module": "@jupyter-widgets/base",
          "model_name": "LayoutModel",
          "model_module_version": "1.2.0",
          "state": {
            "_model_module": "@jupyter-widgets/base",
            "_model_module_version": "1.2.0",
            "_model_name": "LayoutModel",
            "_view_count": null,
            "_view_module": "@jupyter-widgets/base",
            "_view_module_version": "1.2.0",
            "_view_name": "LayoutView",
            "align_content": null,
            "align_items": null,
            "align_self": null,
            "border": null,
            "bottom": null,
            "display": null,
            "flex": null,
            "flex_flow": null,
            "grid_area": null,
            "grid_auto_columns": null,
            "grid_auto_flow": null,
            "grid_auto_rows": null,
            "grid_column": null,
            "grid_gap": null,
            "grid_row": null,
            "grid_template_areas": null,
            "grid_template_columns": null,
            "grid_template_rows": null,
            "height": null,
            "justify_content": null,
            "justify_items": null,
            "left": null,
            "margin": null,
            "max_height": null,
            "max_width": null,
            "min_height": null,
            "min_width": null,
            "object_fit": null,
            "object_position": null,
            "order": null,
            "overflow": null,
            "overflow_x": null,
            "overflow_y": null,
            "padding": null,
            "right": null,
            "top": null,
            "visibility": null,
            "width": null
          }
        },
        "5dea6c44befc497c8cb3a439a49cfac6": {
          "model_module": "@jupyter-widgets/controls",
          "model_name": "DescriptionStyleModel",
          "model_module_version": "1.5.0",
          "state": {
            "_model_module": "@jupyter-widgets/controls",
            "_model_module_version": "1.5.0",
            "_model_name": "DescriptionStyleModel",
            "_view_count": null,
            "_view_module": "@jupyter-widgets/base",
            "_view_module_version": "1.2.0",
            "_view_name": "StyleView",
            "description_width": ""
          }
        },
        "ae01138b6ff548e394148cf7d8e30a08": {
          "model_module": "@jupyter-widgets/base",
          "model_name": "LayoutModel",
          "model_module_version": "1.2.0",
          "state": {
            "_model_module": "@jupyter-widgets/base",
            "_model_module_version": "1.2.0",
            "_model_name": "LayoutModel",
            "_view_count": null,
            "_view_module": "@jupyter-widgets/base",
            "_view_module_version": "1.2.0",
            "_view_name": "LayoutView",
            "align_content": null,
            "align_items": null,
            "align_self": null,
            "border": null,
            "bottom": null,
            "display": null,
            "flex": null,
            "flex_flow": null,
            "grid_area": null,
            "grid_auto_columns": null,
            "grid_auto_flow": null,
            "grid_auto_rows": null,
            "grid_column": null,
            "grid_gap": null,
            "grid_row": null,
            "grid_template_areas": null,
            "grid_template_columns": null,
            "grid_template_rows": null,
            "height": null,
            "justify_content": null,
            "justify_items": null,
            "left": null,
            "margin": null,
            "max_height": null,
            "max_width": null,
            "min_height": null,
            "min_width": null,
            "object_fit": null,
            "object_position": null,
            "order": null,
            "overflow": null,
            "overflow_x": null,
            "overflow_y": null,
            "padding": null,
            "right": null,
            "top": null,
            "visibility": null,
            "width": null
          }
        },
        "910fbae4c3b540268972fac850e51d0e": {
          "model_module": "@jupyter-widgets/controls",
          "model_name": "ProgressStyleModel",
          "model_module_version": "1.5.0",
          "state": {
            "_model_module": "@jupyter-widgets/controls",
            "_model_module_version": "1.5.0",
            "_model_name": "ProgressStyleModel",
            "_view_count": null,
            "_view_module": "@jupyter-widgets/base",
            "_view_module_version": "1.2.0",
            "_view_name": "StyleView",
            "bar_color": null,
            "description_width": ""
          }
        },
        "acf343886e52463fbddb4dd6c6c230f3": {
          "model_module": "@jupyter-widgets/base",
          "model_name": "LayoutModel",
          "model_module_version": "1.2.0",
          "state": {
            "_model_module": "@jupyter-widgets/base",
            "_model_module_version": "1.2.0",
            "_model_name": "LayoutModel",
            "_view_count": null,
            "_view_module": "@jupyter-widgets/base",
            "_view_module_version": "1.2.0",
            "_view_name": "LayoutView",
            "align_content": null,
            "align_items": null,
            "align_self": null,
            "border": null,
            "bottom": null,
            "display": null,
            "flex": null,
            "flex_flow": null,
            "grid_area": null,
            "grid_auto_columns": null,
            "grid_auto_flow": null,
            "grid_auto_rows": null,
            "grid_column": null,
            "grid_gap": null,
            "grid_row": null,
            "grid_template_areas": null,
            "grid_template_columns": null,
            "grid_template_rows": null,
            "height": null,
            "justify_content": null,
            "justify_items": null,
            "left": null,
            "margin": null,
            "max_height": null,
            "max_width": null,
            "min_height": null,
            "min_width": null,
            "object_fit": null,
            "object_position": null,
            "order": null,
            "overflow": null,
            "overflow_x": null,
            "overflow_y": null,
            "padding": null,
            "right": null,
            "top": null,
            "visibility": null,
            "width": null
          }
        },
        "f128968860484b6e967df2432bb00f2e": {
          "model_module": "@jupyter-widgets/controls",
          "model_name": "DescriptionStyleModel",
          "model_module_version": "1.5.0",
          "state": {
            "_model_module": "@jupyter-widgets/controls",
            "_model_module_version": "1.5.0",
            "_model_name": "DescriptionStyleModel",
            "_view_count": null,
            "_view_module": "@jupyter-widgets/base",
            "_view_module_version": "1.2.0",
            "_view_name": "StyleView",
            "description_width": ""
          }
        },
        "f6b74b4857114e938ca2033ed8fb983f": {
          "model_module": "@jupyter-widgets/controls",
          "model_name": "HBoxModel",
          "model_module_version": "1.5.0",
          "state": {
            "_dom_classes": [],
            "_model_module": "@jupyter-widgets/controls",
            "_model_module_version": "1.5.0",
            "_model_name": "HBoxModel",
            "_view_count": null,
            "_view_module": "@jupyter-widgets/controls",
            "_view_module_version": "1.5.0",
            "_view_name": "HBoxView",
            "box_style": "",
            "children": [
              "IPY_MODEL_8cfc498c6a364f309a07c6922148f87f",
              "IPY_MODEL_5ae4a951ef4d4cf7bb4e59fae17e4fe5",
              "IPY_MODEL_e9cb826ef4a74fb1bfa5b73e6509f944"
            ],
            "layout": "IPY_MODEL_fcb4c9d73add4af1be6f7a8789898534"
          }
        },
        "8cfc498c6a364f309a07c6922148f87f": {
          "model_module": "@jupyter-widgets/controls",
          "model_name": "HTMLModel",
          "model_module_version": "1.5.0",
          "state": {
            "_dom_classes": [],
            "_model_module": "@jupyter-widgets/controls",
            "_model_module_version": "1.5.0",
            "_model_name": "HTMLModel",
            "_view_count": null,
            "_view_module": "@jupyter-widgets/controls",
            "_view_module_version": "1.5.0",
            "_view_name": "HTMLView",
            "description": "",
            "description_tooltip": null,
            "layout": "IPY_MODEL_fc6cad801a294373a2f9d7c170afef93",
            "placeholder": "​",
            "style": "IPY_MODEL_2d1a6e26519842e68ec299bc82eb7493",
            "value": "Loading checkpoint shards: 100%"
          }
        },
        "5ae4a951ef4d4cf7bb4e59fae17e4fe5": {
          "model_module": "@jupyter-widgets/controls",
          "model_name": "FloatProgressModel",
          "model_module_version": "1.5.0",
          "state": {
            "_dom_classes": [],
            "_model_module": "@jupyter-widgets/controls",
            "_model_module_version": "1.5.0",
            "_model_name": "FloatProgressModel",
            "_view_count": null,
            "_view_module": "@jupyter-widgets/controls",
            "_view_module_version": "1.5.0",
            "_view_name": "ProgressView",
            "bar_style": "success",
            "description": "",
            "description_tooltip": null,
            "layout": "IPY_MODEL_1575a8bfb5ee497bacd42f697cbad678",
            "max": 8,
            "min": 0,
            "orientation": "horizontal",
            "style": "IPY_MODEL_66dd88fe7e8e40568f47840faedeaf38",
            "value": 8
          }
        },
        "e9cb826ef4a74fb1bfa5b73e6509f944": {
          "model_module": "@jupyter-widgets/controls",
          "model_name": "HTMLModel",
          "model_module_version": "1.5.0",
          "state": {
            "_dom_classes": [],
            "_model_module": "@jupyter-widgets/controls",
            "_model_module_version": "1.5.0",
            "_model_name": "HTMLModel",
            "_view_count": null,
            "_view_module": "@jupyter-widgets/controls",
            "_view_module_version": "1.5.0",
            "_view_name": "HTMLView",
            "description": "",
            "description_tooltip": null,
            "layout": "IPY_MODEL_75f54bf828364aff8f61a00093877c3c",
            "placeholder": "​",
            "style": "IPY_MODEL_0222b90679794e4b944f428a74d053a8",
            "value": " 8/8 [01:10&lt;00:00,  7.82s/it]"
          }
        },
        "fcb4c9d73add4af1be6f7a8789898534": {
          "model_module": "@jupyter-widgets/base",
          "model_name": "LayoutModel",
          "model_module_version": "1.2.0",
          "state": {
            "_model_module": "@jupyter-widgets/base",
            "_model_module_version": "1.2.0",
            "_model_name": "LayoutModel",
            "_view_count": null,
            "_view_module": "@jupyter-widgets/base",
            "_view_module_version": "1.2.0",
            "_view_name": "LayoutView",
            "align_content": null,
            "align_items": null,
            "align_self": null,
            "border": null,
            "bottom": null,
            "display": null,
            "flex": null,
            "flex_flow": null,
            "grid_area": null,
            "grid_auto_columns": null,
            "grid_auto_flow": null,
            "grid_auto_rows": null,
            "grid_column": null,
            "grid_gap": null,
            "grid_row": null,
            "grid_template_areas": null,
            "grid_template_columns": null,
            "grid_template_rows": null,
            "height": null,
            "justify_content": null,
            "justify_items": null,
            "left": null,
            "margin": null,
            "max_height": null,
            "max_width": null,
            "min_height": null,
            "min_width": null,
            "object_fit": null,
            "object_position": null,
            "order": null,
            "overflow": null,
            "overflow_x": null,
            "overflow_y": null,
            "padding": null,
            "right": null,
            "top": null,
            "visibility": null,
            "width": null
          }
        },
        "fc6cad801a294373a2f9d7c170afef93": {
          "model_module": "@jupyter-widgets/base",
          "model_name": "LayoutModel",
          "model_module_version": "1.2.0",
          "state": {
            "_model_module": "@jupyter-widgets/base",
            "_model_module_version": "1.2.0",
            "_model_name": "LayoutModel",
            "_view_count": null,
            "_view_module": "@jupyter-widgets/base",
            "_view_module_version": "1.2.0",
            "_view_name": "LayoutView",
            "align_content": null,
            "align_items": null,
            "align_self": null,
            "border": null,
            "bottom": null,
            "display": null,
            "flex": null,
            "flex_flow": null,
            "grid_area": null,
            "grid_auto_columns": null,
            "grid_auto_flow": null,
            "grid_auto_rows": null,
            "grid_column": null,
            "grid_gap": null,
            "grid_row": null,
            "grid_template_areas": null,
            "grid_template_columns": null,
            "grid_template_rows": null,
            "height": null,
            "justify_content": null,
            "justify_items": null,
            "left": null,
            "margin": null,
            "max_height": null,
            "max_width": null,
            "min_height": null,
            "min_width": null,
            "object_fit": null,
            "object_position": null,
            "order": null,
            "overflow": null,
            "overflow_x": null,
            "overflow_y": null,
            "padding": null,
            "right": null,
            "top": null,
            "visibility": null,
            "width": null
          }
        },
        "2d1a6e26519842e68ec299bc82eb7493": {
          "model_module": "@jupyter-widgets/controls",
          "model_name": "DescriptionStyleModel",
          "model_module_version": "1.5.0",
          "state": {
            "_model_module": "@jupyter-widgets/controls",
            "_model_module_version": "1.5.0",
            "_model_name": "DescriptionStyleModel",
            "_view_count": null,
            "_view_module": "@jupyter-widgets/base",
            "_view_module_version": "1.2.0",
            "_view_name": "StyleView",
            "description_width": ""
          }
        },
        "1575a8bfb5ee497bacd42f697cbad678": {
          "model_module": "@jupyter-widgets/base",
          "model_name": "LayoutModel",
          "model_module_version": "1.2.0",
          "state": {
            "_model_module": "@jupyter-widgets/base",
            "_model_module_version": "1.2.0",
            "_model_name": "LayoutModel",
            "_view_count": null,
            "_view_module": "@jupyter-widgets/base",
            "_view_module_version": "1.2.0",
            "_view_name": "LayoutView",
            "align_content": null,
            "align_items": null,
            "align_self": null,
            "border": null,
            "bottom": null,
            "display": null,
            "flex": null,
            "flex_flow": null,
            "grid_area": null,
            "grid_auto_columns": null,
            "grid_auto_flow": null,
            "grid_auto_rows": null,
            "grid_column": null,
            "grid_gap": null,
            "grid_row": null,
            "grid_template_areas": null,
            "grid_template_columns": null,
            "grid_template_rows": null,
            "height": null,
            "justify_content": null,
            "justify_items": null,
            "left": null,
            "margin": null,
            "max_height": null,
            "max_width": null,
            "min_height": null,
            "min_width": null,
            "object_fit": null,
            "object_position": null,
            "order": null,
            "overflow": null,
            "overflow_x": null,
            "overflow_y": null,
            "padding": null,
            "right": null,
            "top": null,
            "visibility": null,
            "width": null
          }
        },
        "66dd88fe7e8e40568f47840faedeaf38": {
          "model_module": "@jupyter-widgets/controls",
          "model_name": "ProgressStyleModel",
          "model_module_version": "1.5.0",
          "state": {
            "_model_module": "@jupyter-widgets/controls",
            "_model_module_version": "1.5.0",
            "_model_name": "ProgressStyleModel",
            "_view_count": null,
            "_view_module": "@jupyter-widgets/base",
            "_view_module_version": "1.2.0",
            "_view_name": "StyleView",
            "bar_color": null,
            "description_width": ""
          }
        },
        "75f54bf828364aff8f61a00093877c3c": {
          "model_module": "@jupyter-widgets/base",
          "model_name": "LayoutModel",
          "model_module_version": "1.2.0",
          "state": {
            "_model_module": "@jupyter-widgets/base",
            "_model_module_version": "1.2.0",
            "_model_name": "LayoutModel",
            "_view_count": null,
            "_view_module": "@jupyter-widgets/base",
            "_view_module_version": "1.2.0",
            "_view_name": "LayoutView",
            "align_content": null,
            "align_items": null,
            "align_self": null,
            "border": null,
            "bottom": null,
            "display": null,
            "flex": null,
            "flex_flow": null,
            "grid_area": null,
            "grid_auto_columns": null,
            "grid_auto_flow": null,
            "grid_auto_rows": null,
            "grid_column": null,
            "grid_gap": null,
            "grid_row": null,
            "grid_template_areas": null,
            "grid_template_columns": null,
            "grid_template_rows": null,
            "height": null,
            "justify_content": null,
            "justify_items": null,
            "left": null,
            "margin": null,
            "max_height": null,
            "max_width": null,
            "min_height": null,
            "min_width": null,
            "object_fit": null,
            "object_position": null,
            "order": null,
            "overflow": null,
            "overflow_x": null,
            "overflow_y": null,
            "padding": null,
            "right": null,
            "top": null,
            "visibility": null,
            "width": null
          }
        },
        "0222b90679794e4b944f428a74d053a8": {
          "model_module": "@jupyter-widgets/controls",
          "model_name": "DescriptionStyleModel",
          "model_module_version": "1.5.0",
          "state": {
            "_model_module": "@jupyter-widgets/controls",
            "_model_module_version": "1.5.0",
            "_model_name": "DescriptionStyleModel",
            "_view_count": null,
            "_view_module": "@jupyter-widgets/base",
            "_view_module_version": "1.2.0",
            "_view_name": "StyleView",
            "description_width": ""
          }
        },
        "f940438ce20848aaafe99d1fa1dbadf3": {
          "model_module": "@jupyter-widgets/controls",
          "model_name": "HBoxModel",
          "model_module_version": "1.5.0",
          "state": {
            "_dom_classes": [],
            "_model_module": "@jupyter-widgets/controls",
            "_model_module_version": "1.5.0",
            "_model_name": "HBoxModel",
            "_view_count": null,
            "_view_module": "@jupyter-widgets/controls",
            "_view_module_version": "1.5.0",
            "_view_name": "HBoxView",
            "box_style": "",
            "children": [
              "IPY_MODEL_c99f321dea824c25ac4e04d22f1e7d5e",
              "IPY_MODEL_36d238bf2f1a4fe8a4fefa2f8f4603ae",
              "IPY_MODEL_617338a7b6e94c3882064c6ae8b1a6df"
            ],
            "layout": "IPY_MODEL_82d548ebbb3143d095c3d708a1084208"
          }
        },
        "c99f321dea824c25ac4e04d22f1e7d5e": {
          "model_module": "@jupyter-widgets/controls",
          "model_name": "HTMLModel",
          "model_module_version": "1.5.0",
          "state": {
            "_dom_classes": [],
            "_model_module": "@jupyter-widgets/controls",
            "_model_module_version": "1.5.0",
            "_model_name": "HTMLModel",
            "_view_count": null,
            "_view_module": "@jupyter-widgets/controls",
            "_view_module_version": "1.5.0",
            "_view_name": "HTMLView",
            "description": "",
            "description_tooltip": null,
            "layout": "IPY_MODEL_4cf5e90f99ee4283bece1955cb061bfd",
            "placeholder": "​",
            "style": "IPY_MODEL_8a086552c960445484be3ceaaa9f8d8c",
            "value": "Batches: 100%"
          }
        },
        "36d238bf2f1a4fe8a4fefa2f8f4603ae": {
          "model_module": "@jupyter-widgets/controls",
          "model_name": "FloatProgressModel",
          "model_module_version": "1.5.0",
          "state": {
            "_dom_classes": [],
            "_model_module": "@jupyter-widgets/controls",
            "_model_module_version": "1.5.0",
            "_model_name": "FloatProgressModel",
            "_view_count": null,
            "_view_module": "@jupyter-widgets/controls",
            "_view_module_version": "1.5.0",
            "_view_name": "ProgressView",
            "bar_style": "success",
            "description": "",
            "description_tooltip": null,
            "layout": "IPY_MODEL_63dd96afc20b44d1ae89b9f1bfb6992f",
            "max": 1,
            "min": 0,
            "orientation": "horizontal",
            "style": "IPY_MODEL_60032356e5484f14a23a4a4a75262226",
            "value": 1
          }
        },
        "617338a7b6e94c3882064c6ae8b1a6df": {
          "model_module": "@jupyter-widgets/controls",
          "model_name": "HTMLModel",
          "model_module_version": "1.5.0",
          "state": {
            "_dom_classes": [],
            "_model_module": "@jupyter-widgets/controls",
            "_model_module_version": "1.5.0",
            "_model_name": "HTMLModel",
            "_view_count": null,
            "_view_module": "@jupyter-widgets/controls",
            "_view_module_version": "1.5.0",
            "_view_name": "HTMLView",
            "description": "",
            "description_tooltip": null,
            "layout": "IPY_MODEL_6c623284b315459295a31107bd1bc64d",
            "placeholder": "​",
            "style": "IPY_MODEL_86a96fc64dd84477b65936f5b30f6817",
            "value": " 1/1 [00:00&lt;00:00, 10.86it/s]"
          }
        },
        "82d548ebbb3143d095c3d708a1084208": {
          "model_module": "@jupyter-widgets/base",
          "model_name": "LayoutModel",
          "model_module_version": "1.2.0",
          "state": {
            "_model_module": "@jupyter-widgets/base",
            "_model_module_version": "1.2.0",
            "_model_name": "LayoutModel",
            "_view_count": null,
            "_view_module": "@jupyter-widgets/base",
            "_view_module_version": "1.2.0",
            "_view_name": "LayoutView",
            "align_content": null,
            "align_items": null,
            "align_self": null,
            "border": null,
            "bottom": null,
            "display": null,
            "flex": null,
            "flex_flow": null,
            "grid_area": null,
            "grid_auto_columns": null,
            "grid_auto_flow": null,
            "grid_auto_rows": null,
            "grid_column": null,
            "grid_gap": null,
            "grid_row": null,
            "grid_template_areas": null,
            "grid_template_columns": null,
            "grid_template_rows": null,
            "height": null,
            "justify_content": null,
            "justify_items": null,
            "left": null,
            "margin": null,
            "max_height": null,
            "max_width": null,
            "min_height": null,
            "min_width": null,
            "object_fit": null,
            "object_position": null,
            "order": null,
            "overflow": null,
            "overflow_x": null,
            "overflow_y": null,
            "padding": null,
            "right": null,
            "top": null,
            "visibility": null,
            "width": null
          }
        },
        "4cf5e90f99ee4283bece1955cb061bfd": {
          "model_module": "@jupyter-widgets/base",
          "model_name": "LayoutModel",
          "model_module_version": "1.2.0",
          "state": {
            "_model_module": "@jupyter-widgets/base",
            "_model_module_version": "1.2.0",
            "_model_name": "LayoutModel",
            "_view_count": null,
            "_view_module": "@jupyter-widgets/base",
            "_view_module_version": "1.2.0",
            "_view_name": "LayoutView",
            "align_content": null,
            "align_items": null,
            "align_self": null,
            "border": null,
            "bottom": null,
            "display": null,
            "flex": null,
            "flex_flow": null,
            "grid_area": null,
            "grid_auto_columns": null,
            "grid_auto_flow": null,
            "grid_auto_rows": null,
            "grid_column": null,
            "grid_gap": null,
            "grid_row": null,
            "grid_template_areas": null,
            "grid_template_columns": null,
            "grid_template_rows": null,
            "height": null,
            "justify_content": null,
            "justify_items": null,
            "left": null,
            "margin": null,
            "max_height": null,
            "max_width": null,
            "min_height": null,
            "min_width": null,
            "object_fit": null,
            "object_position": null,
            "order": null,
            "overflow": null,
            "overflow_x": null,
            "overflow_y": null,
            "padding": null,
            "right": null,
            "top": null,
            "visibility": null,
            "width": null
          }
        },
        "8a086552c960445484be3ceaaa9f8d8c": {
          "model_module": "@jupyter-widgets/controls",
          "model_name": "DescriptionStyleModel",
          "model_module_version": "1.5.0",
          "state": {
            "_model_module": "@jupyter-widgets/controls",
            "_model_module_version": "1.5.0",
            "_model_name": "DescriptionStyleModel",
            "_view_count": null,
            "_view_module": "@jupyter-widgets/base",
            "_view_module_version": "1.2.0",
            "_view_name": "StyleView",
            "description_width": ""
          }
        },
        "63dd96afc20b44d1ae89b9f1bfb6992f": {
          "model_module": "@jupyter-widgets/base",
          "model_name": "LayoutModel",
          "model_module_version": "1.2.0",
          "state": {
            "_model_module": "@jupyter-widgets/base",
            "_model_module_version": "1.2.0",
            "_model_name": "LayoutModel",
            "_view_count": null,
            "_view_module": "@jupyter-widgets/base",
            "_view_module_version": "1.2.0",
            "_view_name": "LayoutView",
            "align_content": null,
            "align_items": null,
            "align_self": null,
            "border": null,
            "bottom": null,
            "display": null,
            "flex": null,
            "flex_flow": null,
            "grid_area": null,
            "grid_auto_columns": null,
            "grid_auto_flow": null,
            "grid_auto_rows": null,
            "grid_column": null,
            "grid_gap": null,
            "grid_row": null,
            "grid_template_areas": null,
            "grid_template_columns": null,
            "grid_template_rows": null,
            "height": null,
            "justify_content": null,
            "justify_items": null,
            "left": null,
            "margin": null,
            "max_height": null,
            "max_width": null,
            "min_height": null,
            "min_width": null,
            "object_fit": null,
            "object_position": null,
            "order": null,
            "overflow": null,
            "overflow_x": null,
            "overflow_y": null,
            "padding": null,
            "right": null,
            "top": null,
            "visibility": null,
            "width": null
          }
        },
        "60032356e5484f14a23a4a4a75262226": {
          "model_module": "@jupyter-widgets/controls",
          "model_name": "ProgressStyleModel",
          "model_module_version": "1.5.0",
          "state": {
            "_model_module": "@jupyter-widgets/controls",
            "_model_module_version": "1.5.0",
            "_model_name": "ProgressStyleModel",
            "_view_count": null,
            "_view_module": "@jupyter-widgets/base",
            "_view_module_version": "1.2.0",
            "_view_name": "StyleView",
            "bar_color": null,
            "description_width": ""
          }
        },
        "6c623284b315459295a31107bd1bc64d": {
          "model_module": "@jupyter-widgets/base",
          "model_name": "LayoutModel",
          "model_module_version": "1.2.0",
          "state": {
            "_model_module": "@jupyter-widgets/base",
            "_model_module_version": "1.2.0",
            "_model_name": "LayoutModel",
            "_view_count": null,
            "_view_module": "@jupyter-widgets/base",
            "_view_module_version": "1.2.0",
            "_view_name": "LayoutView",
            "align_content": null,
            "align_items": null,
            "align_self": null,
            "border": null,
            "bottom": null,
            "display": null,
            "flex": null,
            "flex_flow": null,
            "grid_area": null,
            "grid_auto_columns": null,
            "grid_auto_flow": null,
            "grid_auto_rows": null,
            "grid_column": null,
            "grid_gap": null,
            "grid_row": null,
            "grid_template_areas": null,
            "grid_template_columns": null,
            "grid_template_rows": null,
            "height": null,
            "justify_content": null,
            "justify_items": null,
            "left": null,
            "margin": null,
            "max_height": null,
            "max_width": null,
            "min_height": null,
            "min_width": null,
            "object_fit": null,
            "object_position": null,
            "order": null,
            "overflow": null,
            "overflow_x": null,
            "overflow_y": null,
            "padding": null,
            "right": null,
            "top": null,
            "visibility": null,
            "width": null
          }
        },
        "86a96fc64dd84477b65936f5b30f6817": {
          "model_module": "@jupyter-widgets/controls",
          "model_name": "DescriptionStyleModel",
          "model_module_version": "1.5.0",
          "state": {
            "_model_module": "@jupyter-widgets/controls",
            "_model_module_version": "1.5.0",
            "_model_name": "DescriptionStyleModel",
            "_view_count": null,
            "_view_module": "@jupyter-widgets/base",
            "_view_module_version": "1.2.0",
            "_view_name": "StyleView",
            "description_width": ""
          }
        },
        "cafa0fc41bed4edfac3313d04a3dc76b": {
          "model_module": "@jupyter-widgets/controls",
          "model_name": "HBoxModel",
          "model_module_version": "1.5.0",
          "state": {
            "_dom_classes": [],
            "_model_module": "@jupyter-widgets/controls",
            "_model_module_version": "1.5.0",
            "_model_name": "HBoxModel",
            "_view_count": null,
            "_view_module": "@jupyter-widgets/controls",
            "_view_module_version": "1.5.0",
            "_view_name": "HBoxView",
            "box_style": "",
            "children": [
              "IPY_MODEL_4532ef3de7244bd3b51df7397fa850bd",
              "IPY_MODEL_68913be07f5d43608c2db906e5e7410c",
              "IPY_MODEL_d176f0f1809c4c5bad4217d7a85693c7"
            ],
            "layout": "IPY_MODEL_d884e3fb892d4c85a18a826ae363b66e"
          }
        },
        "4532ef3de7244bd3b51df7397fa850bd": {
          "model_module": "@jupyter-widgets/controls",
          "model_name": "HTMLModel",
          "model_module_version": "1.5.0",
          "state": {
            "_dom_classes": [],
            "_model_module": "@jupyter-widgets/controls",
            "_model_module_version": "1.5.0",
            "_model_name": "HTMLModel",
            "_view_count": null,
            "_view_module": "@jupyter-widgets/controls",
            "_view_module_version": "1.5.0",
            "_view_name": "HTMLView",
            "description": "",
            "description_tooltip": null,
            "layout": "IPY_MODEL_f9c31ff887cf4b15b9e7584016d700f7",
            "placeholder": "​",
            "style": "IPY_MODEL_9a27bc2748c24aeea42d6fb6d8c97075",
            "value": "Batches: 100%"
          }
        },
        "68913be07f5d43608c2db906e5e7410c": {
          "model_module": "@jupyter-widgets/controls",
          "model_name": "FloatProgressModel",
          "model_module_version": "1.5.0",
          "state": {
            "_dom_classes": [],
            "_model_module": "@jupyter-widgets/controls",
            "_model_module_version": "1.5.0",
            "_model_name": "FloatProgressModel",
            "_view_count": null,
            "_view_module": "@jupyter-widgets/controls",
            "_view_module_version": "1.5.0",
            "_view_name": "ProgressView",
            "bar_style": "success",
            "description": "",
            "description_tooltip": null,
            "layout": "IPY_MODEL_92b00c9c59ac4152a0d611c7acac536c",
            "max": 1,
            "min": 0,
            "orientation": "horizontal",
            "style": "IPY_MODEL_18ce0e1843f9489e8c2724136d12452a",
            "value": 1
          }
        },
        "d176f0f1809c4c5bad4217d7a85693c7": {
          "model_module": "@jupyter-widgets/controls",
          "model_name": "HTMLModel",
          "model_module_version": "1.5.0",
          "state": {
            "_dom_classes": [],
            "_model_module": "@jupyter-widgets/controls",
            "_model_module_version": "1.5.0",
            "_model_name": "HTMLModel",
            "_view_count": null,
            "_view_module": "@jupyter-widgets/controls",
            "_view_module_version": "1.5.0",
            "_view_name": "HTMLView",
            "description": "",
            "description_tooltip": null,
            "layout": "IPY_MODEL_afea84913d5d4cc282193392a5b4d4dd",
            "placeholder": "​",
            "style": "IPY_MODEL_bc9cb3c5111149f9b7389c7a0442c622",
            "value": " 1/1 [00:00&lt;00:00, 19.10it/s]"
          }
        },
        "d884e3fb892d4c85a18a826ae363b66e": {
          "model_module": "@jupyter-widgets/base",
          "model_name": "LayoutModel",
          "model_module_version": "1.2.0",
          "state": {
            "_model_module": "@jupyter-widgets/base",
            "_model_module_version": "1.2.0",
            "_model_name": "LayoutModel",
            "_view_count": null,
            "_view_module": "@jupyter-widgets/base",
            "_view_module_version": "1.2.0",
            "_view_name": "LayoutView",
            "align_content": null,
            "align_items": null,
            "align_self": null,
            "border": null,
            "bottom": null,
            "display": null,
            "flex": null,
            "flex_flow": null,
            "grid_area": null,
            "grid_auto_columns": null,
            "grid_auto_flow": null,
            "grid_auto_rows": null,
            "grid_column": null,
            "grid_gap": null,
            "grid_row": null,
            "grid_template_areas": null,
            "grid_template_columns": null,
            "grid_template_rows": null,
            "height": null,
            "justify_content": null,
            "justify_items": null,
            "left": null,
            "margin": null,
            "max_height": null,
            "max_width": null,
            "min_height": null,
            "min_width": null,
            "object_fit": null,
            "object_position": null,
            "order": null,
            "overflow": null,
            "overflow_x": null,
            "overflow_y": null,
            "padding": null,
            "right": null,
            "top": null,
            "visibility": null,
            "width": null
          }
        },
        "f9c31ff887cf4b15b9e7584016d700f7": {
          "model_module": "@jupyter-widgets/base",
          "model_name": "LayoutModel",
          "model_module_version": "1.2.0",
          "state": {
            "_model_module": "@jupyter-widgets/base",
            "_model_module_version": "1.2.0",
            "_model_name": "LayoutModel",
            "_view_count": null,
            "_view_module": "@jupyter-widgets/base",
            "_view_module_version": "1.2.0",
            "_view_name": "LayoutView",
            "align_content": null,
            "align_items": null,
            "align_self": null,
            "border": null,
            "bottom": null,
            "display": null,
            "flex": null,
            "flex_flow": null,
            "grid_area": null,
            "grid_auto_columns": null,
            "grid_auto_flow": null,
            "grid_auto_rows": null,
            "grid_column": null,
            "grid_gap": null,
            "grid_row": null,
            "grid_template_areas": null,
            "grid_template_columns": null,
            "grid_template_rows": null,
            "height": null,
            "justify_content": null,
            "justify_items": null,
            "left": null,
            "margin": null,
            "max_height": null,
            "max_width": null,
            "min_height": null,
            "min_width": null,
            "object_fit": null,
            "object_position": null,
            "order": null,
            "overflow": null,
            "overflow_x": null,
            "overflow_y": null,
            "padding": null,
            "right": null,
            "top": null,
            "visibility": null,
            "width": null
          }
        },
        "9a27bc2748c24aeea42d6fb6d8c97075": {
          "model_module": "@jupyter-widgets/controls",
          "model_name": "DescriptionStyleModel",
          "model_module_version": "1.5.0",
          "state": {
            "_model_module": "@jupyter-widgets/controls",
            "_model_module_version": "1.5.0",
            "_model_name": "DescriptionStyleModel",
            "_view_count": null,
            "_view_module": "@jupyter-widgets/base",
            "_view_module_version": "1.2.0",
            "_view_name": "StyleView",
            "description_width": ""
          }
        },
        "92b00c9c59ac4152a0d611c7acac536c": {
          "model_module": "@jupyter-widgets/base",
          "model_name": "LayoutModel",
          "model_module_version": "1.2.0",
          "state": {
            "_model_module": "@jupyter-widgets/base",
            "_model_module_version": "1.2.0",
            "_model_name": "LayoutModel",
            "_view_count": null,
            "_view_module": "@jupyter-widgets/base",
            "_view_module_version": "1.2.0",
            "_view_name": "LayoutView",
            "align_content": null,
            "align_items": null,
            "align_self": null,
            "border": null,
            "bottom": null,
            "display": null,
            "flex": null,
            "flex_flow": null,
            "grid_area": null,
            "grid_auto_columns": null,
            "grid_auto_flow": null,
            "grid_auto_rows": null,
            "grid_column": null,
            "grid_gap": null,
            "grid_row": null,
            "grid_template_areas": null,
            "grid_template_columns": null,
            "grid_template_rows": null,
            "height": null,
            "justify_content": null,
            "justify_items": null,
            "left": null,
            "margin": null,
            "max_height": null,
            "max_width": null,
            "min_height": null,
            "min_width": null,
            "object_fit": null,
            "object_position": null,
            "order": null,
            "overflow": null,
            "overflow_x": null,
            "overflow_y": null,
            "padding": null,
            "right": null,
            "top": null,
            "visibility": null,
            "width": null
          }
        },
        "18ce0e1843f9489e8c2724136d12452a": {
          "model_module": "@jupyter-widgets/controls",
          "model_name": "ProgressStyleModel",
          "model_module_version": "1.5.0",
          "state": {
            "_model_module": "@jupyter-widgets/controls",
            "_model_module_version": "1.5.0",
            "_model_name": "ProgressStyleModel",
            "_view_count": null,
            "_view_module": "@jupyter-widgets/base",
            "_view_module_version": "1.2.0",
            "_view_name": "StyleView",
            "bar_color": null,
            "description_width": ""
          }
        },
        "afea84913d5d4cc282193392a5b4d4dd": {
          "model_module": "@jupyter-widgets/base",
          "model_name": "LayoutModel",
          "model_module_version": "1.2.0",
          "state": {
            "_model_module": "@jupyter-widgets/base",
            "_model_module_version": "1.2.0",
            "_model_name": "LayoutModel",
            "_view_count": null,
            "_view_module": "@jupyter-widgets/base",
            "_view_module_version": "1.2.0",
            "_view_name": "LayoutView",
            "align_content": null,
            "align_items": null,
            "align_self": null,
            "border": null,
            "bottom": null,
            "display": null,
            "flex": null,
            "flex_flow": null,
            "grid_area": null,
            "grid_auto_columns": null,
            "grid_auto_flow": null,
            "grid_auto_rows": null,
            "grid_column": null,
            "grid_gap": null,
            "grid_row": null,
            "grid_template_areas": null,
            "grid_template_columns": null,
            "grid_template_rows": null,
            "height": null,
            "justify_content": null,
            "justify_items": null,
            "left": null,
            "margin": null,
            "max_height": null,
            "max_width": null,
            "min_height": null,
            "min_width": null,
            "object_fit": null,
            "object_position": null,
            "order": null,
            "overflow": null,
            "overflow_x": null,
            "overflow_y": null,
            "padding": null,
            "right": null,
            "top": null,
            "visibility": null,
            "width": null
          }
        },
        "bc9cb3c5111149f9b7389c7a0442c622": {
          "model_module": "@jupyter-widgets/controls",
          "model_name": "DescriptionStyleModel",
          "model_module_version": "1.5.0",
          "state": {
            "_model_module": "@jupyter-widgets/controls",
            "_model_module_version": "1.5.0",
            "_model_name": "DescriptionStyleModel",
            "_view_count": null,
            "_view_module": "@jupyter-widgets/base",
            "_view_module_version": "1.2.0",
            "_view_name": "StyleView",
            "description_width": ""
          }
        }
      }
    }
  },
  "nbformat": 4,
  "nbformat_minor": 0
}